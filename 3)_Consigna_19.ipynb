{
  "nbformat": 4,
  "nbformat_minor": 5,
  "metadata": {
    "kernelspec": {
      "display_name": "Python 3",
      "language": "python",
      "name": "python3"
    },
    "language_info": {
      "codemirror_mode": {
        "name": "ipython",
        "version": 3
      },
      "file_extension": ".py",
      "mimetype": "text/x-python",
      "name": "python",
      "nbconvert_exporter": "python",
      "pygments_lexer": "ipython3",
      "version": "3.8.8"
    },
    "colab": {
      "name": "3) Consigna 19 ",
      "provenance": [],
      "collapsed_sections": [],
      "include_colab_link": true
    }
  },
  "cells": [
    {
      "cell_type": "markdown",
      "metadata": {
        "id": "view-in-github",
        "colab_type": "text"
      },
      "source": [
        "<a href=\"https://colab.research.google.com/github/julietamponti/tp2Datos-2C2021-/blob/main/3)_Consigna_19.ipynb\" target=\"_parent\"><img src=\"https://colab.research.google.com/assets/colab-badge.svg\" alt=\"Open In Colab\"/></a>"
      ]
    },
    {
      "cell_type": "markdown",
      "metadata": {
        "id": "0f0d8f58"
      },
      "source": [
        "# **Cantidad de contenido por planeta fuera de la tierra en la Wikipedia.**"
      ],
      "id": "0f0d8f58"
    },
    {
      "cell_type": "markdown",
      "metadata": {
        "id": "rUiH4Qn0-tLJ"
      },
      "source": [
        "Realizo la instalación de todo lo que utilizare en el desarrollo de la consulta."
      ],
      "id": "rUiH4Qn0-tLJ"
    },
    {
      "cell_type": "code",
      "metadata": {
        "id": "eaf98e98",
        "colab": {
          "base_uri": "https://localhost:8080/"
        },
        "outputId": "35788551-c12f-47ef-c91d-f12d9b728c82"
      },
      "source": [
        "!pip install pyspark\n",
        "!pip install -U -q PyDrive\n",
        "!apt update\n",
        "!apt install openjdk-8-jdk-headless -qq\n",
        "#!apt install default-jre\n",
        "#!apt install default-jdk\n",
        "import os\n",
        "os.environ[\"JAVA_HOME\"] = \"/usr/lib/jvm/java-8-openjdk-amd64\""
      ],
      "id": "eaf98e98",
      "execution_count": 1,
      "outputs": [
        {
          "output_type": "stream",
          "name": "stdout",
          "text": [
            "Requirement already satisfied: pyspark in /usr/local/lib/python3.7/dist-packages (3.2.0)\n",
            "Requirement already satisfied: py4j==0.10.9.2 in /usr/local/lib/python3.7/dist-packages (from pyspark) (0.10.9.2)\n",
            "Ign:1 https://developer.download.nvidia.com/compute/cuda/repos/ubuntu1804/x86_64  InRelease\n",
            "Hit:2 https://cloud.r-project.org/bin/linux/ubuntu bionic-cran40/ InRelease\n",
            "Ign:3 https://developer.download.nvidia.com/compute/machine-learning/repos/ubuntu1804/x86_64  InRelease\n",
            "Hit:4 https://developer.download.nvidia.com/compute/cuda/repos/ubuntu1804/x86_64  Release\n",
            "Hit:5 https://developer.download.nvidia.com/compute/machine-learning/repos/ubuntu1804/x86_64  Release\n",
            "Hit:6 http://security.ubuntu.com/ubuntu bionic-security InRelease\n",
            "Hit:7 http://ppa.launchpad.net/c2d4u.team/c2d4u4.0+/ubuntu bionic InRelease\n",
            "Hit:8 http://archive.ubuntu.com/ubuntu bionic InRelease\n",
            "Hit:10 http://archive.ubuntu.com/ubuntu bionic-updates InRelease\n",
            "Hit:11 http://ppa.launchpad.net/cran/libgit2/ubuntu bionic InRelease\n",
            "Hit:13 http://archive.ubuntu.com/ubuntu bionic-backports InRelease\n",
            "Hit:14 http://ppa.launchpad.net/deadsnakes/ppa/ubuntu bionic InRelease\n",
            "Hit:15 http://ppa.launchpad.net/graphics-drivers/ppa/ubuntu bionic InRelease\n",
            "Reading package lists... Done\n",
            "Building dependency tree       \n",
            "Reading state information... Done\n",
            "61 packages can be upgraded. Run 'apt list --upgradable' to see them.\n",
            "openjdk-8-jdk-headless is already the newest version (8u292-b10-0ubuntu1~18.04).\n",
            "The following package was automatically installed and is no longer required:\n",
            "  libnvidia-common-460\n",
            "Use 'apt autoremove' to remove it.\n",
            "0 upgraded, 0 newly installed, 0 to remove and 61 not upgraded.\n"
          ]
        }
      ]
    },
    {
      "cell_type": "markdown",
      "metadata": {
        "id": "XmEV_cRR-voa"
      },
      "source": [
        "Importo librerias."
      ],
      "id": "XmEV_cRR-voa"
    },
    {
      "cell_type": "code",
      "metadata": {
        "id": "cxGGefMUCp3F"
      },
      "source": [
        "from pydrive.auth import GoogleAuth\n",
        "from pydrive.drive import GoogleDrive\n",
        "from google.colab import auth\n",
        "from oauth2client.client import GoogleCredentials\n",
        "from pyspark.sql import *\n",
        "from pyspark.sql.functions import *\n",
        "from pyspark import SparkContext\n",
        "from pyspark.sql import SQLContext\n",
        "import pandas as pd "
      ],
      "id": "cxGGefMUCp3F",
      "execution_count": 2,
      "outputs": []
    },
    {
      "cell_type": "markdown",
      "metadata": {
        "id": "Q9npL65J-y1y"
      },
      "source": [
        "Creo el sparkSession."
      ],
      "id": "Q9npL65J-y1y"
    },
    {
      "cell_type": "code",
      "metadata": {
        "id": "Z3rbZO9BCqav"
      },
      "source": [
        "spark = SparkSession.builder.getOrCreate()\n",
        "sc = spark.sparkContext"
      ],
      "id": "Z3rbZO9BCqav",
      "execution_count": 3,
      "outputs": []
    },
    {
      "cell_type": "markdown",
      "metadata": {
        "id": "INhvCwWR-1OZ"
      },
      "source": [
        "Accedo a mi drive para obtener el archivo y luego realizar su lectura."
      ],
      "id": "INhvCwWR-1OZ"
    },
    {
      "cell_type": "code",
      "metadata": {
        "colab": {
          "base_uri": "https://localhost:8080/"
        },
        "id": "UqpLcke0Cr0w",
        "outputId": "5134d828-762f-4bcc-aa76-5a0635bc79ec"
      },
      "source": [
        "from google.colab import drive \n",
        "drive.mount('/content/gdrive')\n",
        "sqlContext = SQLContext(sc)"
      ],
      "id": "UqpLcke0Cr0w",
      "execution_count": 4,
      "outputs": [
        {
          "output_type": "stream",
          "name": "stdout",
          "text": [
            "Drive already mounted at /content/gdrive; to attempt to forcibly remount, call drive.mount(\"/content/gdrive\", force_remount=True).\n"
          ]
        },
        {
          "output_type": "stream",
          "name": "stderr",
          "text": [
            "/usr/local/lib/python3.7/dist-packages/pyspark/sql/context.py:79: FutureWarning: Deprecated in 3.0.0. Use SparkSession.builder.getOrCreate() instead.\n",
            "  FutureWarning\n"
          ]
        }
      ]
    },
    {
      "cell_type": "markdown",
      "metadata": {
        "id": "MPhQUD8i-6gi"
      },
      "source": [
        "Realizo la lectura del archivo geo_tags.csv."
      ],
      "id": "MPhQUD8i-6gi"
    },
    {
      "cell_type": "code",
      "metadata": {
        "id": "K-1oWscNCvBl"
      },
      "source": [
        "geo = spark.read.format(\"csv\").option(\"header\", True).load('gdrive/My Drive/TP2 - Datos/geo_tags.csv')\n",
        "rddGeo = geo.rdd"
      ],
      "id": "K-1oWscNCvBl",
      "execution_count": 5,
      "outputs": []
    },
    {
      "cell_type": "code",
      "metadata": {
        "colab": {
          "base_uri": "https://localhost:8080/"
        },
        "id": "Fm9vrsXsED8H",
        "outputId": "fc1389ca-a263-4b0e-e611-468874395bd1"
      },
      "source": [
        "rddGeo.take(2)"
      ],
      "id": "Fm9vrsXsED8H",
      "execution_count": 6,
      "outputs": [
        {
          "output_type": "execute_result",
          "data": {
            "text/plain": [
              "[Row(gt_id='158041', gt_page_id='4328020', gt_globe='earth', gt_primary='0', gt_lat='41.50749969', gt_lon='-5.81750011', gt_dim='1000', gt_type=None, gt_name=None, gt_country=None, gt_region=None),\n",
              " Row(gt_id='5844377', gt_page_id='4670424', gt_globe='earth', gt_primary='0', gt_lat='13.73799992', gt_lon='-89.29199982', gt_dim='10000', gt_type='city', gt_name=None, gt_country=None, gt_region=None)]"
            ]
          },
          "metadata": {},
          "execution_count": 6
        }
      ]
    },
    {
      "cell_type": "markdown",
      "metadata": {
        "id": "IU5meu8u-90y"
      },
      "source": [
        "Limpio el RDD con el que voy a trabajar, es decir, filtro los None. Y a su vez, realizo el filtrado de los planetas. Ya que por enunciado debo trabajar con contenidos que esten fuera de la tierra."
      ],
      "id": "IU5meu8u-90y"
    },
    {
      "cell_type": "code",
      "metadata": {
        "id": "rMlQjOte_Mei"
      },
      "source": [
        "rddGeo = rddGeo.filter(lambda x: x.gt_globe != 'earth' and x.gt_globe != None and x.gt_page_id != None).map(lambda x: (x.gt_globe))"
      ],
      "id": "rMlQjOte_Mei",
      "execution_count": 7,
      "outputs": []
    },
    {
      "cell_type": "markdown",
      "metadata": {
        "id": "QQP4DJopBY0a"
      },
      "source": [
        "Realizo un map para quedarme con una estructura del estilo --> ((planeta),1), para luego realizar un reduceByKey y así, obtemer la cantidad de contenidos por planeta."
      ],
      "id": "QQP4DJopBY0a"
    },
    {
      "cell_type": "markdown",
      "metadata": {
        "id": "FwOJ8F8pBjBL"
      },
      "source": [
        "***Resultado***"
      ],
      "id": "FwOJ8F8pBjBL"
    },
    {
      "cell_type": "code",
      "metadata": {
        "colab": {
          "base_uri": "https://localhost:8080/"
        },
        "id": "bbyOHnmuDzNI",
        "outputId": "1dcdb638-0bd2-46c0-ce6d-aaa006c78b35"
      },
      "source": [
        "rddGeo.map(lambda x: (x,1)).reduceByKey(lambda x,y:x+y).collect()"
      ],
      "id": "bbyOHnmuDzNI",
      "execution_count": 8,
      "outputs": [
        {
          "output_type": "execute_result",
          "data": {
            "text/plain": [
              "[('mars', 1438),\n",
              " ('titan', 4),\n",
              " ('callisto', 3),\n",
              " ('titania', 2),\n",
              " ('hyperion', 1),\n",
              " ('tethys', 1),\n",
              " ('mimas', 1),\n",
              " ('mercury', 561),\n",
              " ('moon', 9061),\n",
              " ('ganymede', 116),\n",
              " ('venus', 24),\n",
              " ('umbriel', 1),\n",
              " ('phobos', 20),\n",
              " ('oberon', 1),\n",
              " ('io', 2),\n",
              " ('deimos', 2),\n",
              " ('enceladus', 1)]"
            ]
          },
          "metadata": {},
          "execution_count": 8
        }
      ]
    }
  ]
}