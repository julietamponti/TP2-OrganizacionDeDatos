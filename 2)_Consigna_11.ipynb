{
  "nbformat": 4,
  "nbformat_minor": 5,
  "metadata": {
    "colab": {
      "name": "2) Consigna 11",
      "provenance": [],
      "collapsed_sections": [],
      "include_colab_link": true
    },
    "kernelspec": {
      "display_name": "Python 3",
      "language": "python",
      "name": "python3"
    },
    "language_info": {
      "codemirror_mode": {
        "name": "ipython",
        "version": 3
      },
      "file_extension": ".py",
      "mimetype": "text/x-python",
      "name": "python",
      "nbconvert_exporter": "python",
      "pygments_lexer": "ipython3",
      "version": "3.8.8"
    }
  },
  "cells": [
    {
      "cell_type": "markdown",
      "metadata": {
        "id": "view-in-github",
        "colab_type": "text"
      },
      "source": [
        "<a href=\"https://colab.research.google.com/github/julietamponti/tp2Datos-2C2021-/blob/main/2)_Consigna_11.ipynb\" target=\"_parent\"><img src=\"https://colab.research.google.com/assets/colab-badge.svg\" alt=\"Open In Colab\"/></a>"
      ]
    },
    {
      "cell_type": "markdown",
      "metadata": {
        "id": "cc8e006e"
      },
      "source": [
        "# ***Generar una función genérica que dado un n nos permita obtener un RDD con los n-gramas del contenido de texto de wikipedia y su frecuencia***"
      ],
      "id": "cc8e006e"
    },
    {
      "cell_type": "markdown",
      "metadata": {
        "id": "5-K_jRKO77-J"
      },
      "source": [
        "Realizo la instalación de todo lo que utilizare en el desarrollo de la consulta."
      ],
      "id": "5-K_jRKO77-J"
    },
    {
      "cell_type": "code",
      "metadata": {
        "id": "c068c194-e12c-4a70-8332-9c1a3831a5d1",
        "colab": {
          "base_uri": "https://localhost:8080/"
        },
        "outputId": "d7e8caec-bdf9-44f7-98ab-6edb6ab40b55"
      },
      "source": [
        "!pip install pyspark\n",
        "!pip install -U -q PyDrive\n",
        "!apt update\n",
        "!apt install openjdk-8-jdk-headless -qq\n",
        "!pip install --upgrade pandas\n",
        "!pip install nltk==3.4\n",
        "#!apt install default-jre\n",
        "#!apt install default-jdk\n",
        "import os\n",
        "os.environ[\"JAVA_HOME\"] = \"/usr/lib/jvm/java-8-openjdk-amd64/\""
      ],
      "id": "c068c194-e12c-4a70-8332-9c1a3831a5d1",
      "execution_count": 1,
      "outputs": [
        {
          "output_type": "stream",
          "name": "stdout",
          "text": [
            "Requirement already satisfied: pyspark in /usr/local/lib/python3.7/dist-packages (3.2.0)\n",
            "Requirement already satisfied: py4j==0.10.9.2 in /usr/local/lib/python3.7/dist-packages (from pyspark) (0.10.9.2)\n",
            "Hit:1 http://security.ubuntu.com/ubuntu bionic-security InRelease\n",
            "Hit:2 https://cloud.r-project.org/bin/linux/ubuntu bionic-cran40/ InRelease\n",
            "Ign:3 https://developer.download.nvidia.com/compute/cuda/repos/ubuntu1804/x86_64  InRelease\n",
            "Ign:4 https://developer.download.nvidia.com/compute/machine-learning/repos/ubuntu1804/x86_64  InRelease\n",
            "Hit:5 http://ppa.launchpad.net/c2d4u.team/c2d4u4.0+/ubuntu bionic InRelease\n",
            "Hit:6 https://developer.download.nvidia.com/compute/cuda/repos/ubuntu1804/x86_64  Release\n",
            "Hit:7 https://developer.download.nvidia.com/compute/machine-learning/repos/ubuntu1804/x86_64  Release\n",
            "Hit:8 http://archive.ubuntu.com/ubuntu bionic InRelease\n",
            "Hit:9 http://archive.ubuntu.com/ubuntu bionic-updates InRelease\n",
            "Hit:10 http://ppa.launchpad.net/cran/libgit2/ubuntu bionic InRelease\n",
            "Hit:11 http://archive.ubuntu.com/ubuntu bionic-backports InRelease\n",
            "Hit:12 http://ppa.launchpad.net/deadsnakes/ppa/ubuntu bionic InRelease\n",
            "Hit:13 http://ppa.launchpad.net/graphics-drivers/ppa/ubuntu bionic InRelease\n",
            "Reading package lists... Done\n",
            "Building dependency tree       \n",
            "Reading state information... Done\n",
            "61 packages can be upgraded. Run 'apt list --upgradable' to see them.\n",
            "openjdk-8-jdk-headless is already the newest version (8u292-b10-0ubuntu1~18.04).\n",
            "The following package was automatically installed and is no longer required:\n",
            "  libnvidia-common-460\n",
            "Use 'apt autoremove' to remove it.\n",
            "0 upgraded, 0 newly installed, 0 to remove and 61 not upgraded.\n",
            "Requirement already satisfied: pandas in /usr/local/lib/python3.7/dist-packages (1.3.4)\n",
            "Requirement already satisfied: python-dateutil>=2.7.3 in /usr/local/lib/python3.7/dist-packages (from pandas) (2.8.2)\n",
            "Requirement already satisfied: pytz>=2017.3 in /usr/local/lib/python3.7/dist-packages (from pandas) (2018.9)\n",
            "Requirement already satisfied: numpy>=1.17.3 in /usr/local/lib/python3.7/dist-packages (from pandas) (1.19.5)\n",
            "Requirement already satisfied: six>=1.5 in /usr/local/lib/python3.7/dist-packages (from python-dateutil>=2.7.3->pandas) (1.15.0)\n",
            "Requirement already satisfied: nltk==3.4 in /usr/local/lib/python3.7/dist-packages (3.4)\n",
            "Requirement already satisfied: six in /usr/local/lib/python3.7/dist-packages (from nltk==3.4) (1.15.0)\n",
            "Requirement already satisfied: singledispatch in /usr/local/lib/python3.7/dist-packages (from nltk==3.4) (3.7.0)\n"
          ]
        }
      ]
    },
    {
      "cell_type": "markdown",
      "metadata": {
        "id": "4vaCOCBR8CU5"
      },
      "source": [
        "Importo librerias."
      ],
      "id": "4vaCOCBR8CU5"
    },
    {
      "cell_type": "code",
      "metadata": {
        "id": "fl2G55PrHAbi"
      },
      "source": [
        "from pydrive.auth import GoogleAuth\n",
        "from pydrive.drive import GoogleDrive\n",
        "from google.colab import auth\n",
        "from oauth2client.client import GoogleCredentials\n",
        "from pyspark.sql import *\n",
        "from pyspark.sql.functions import *\n",
        "from pyspark import SparkContext\n",
        "from pyspark.sql import SQLContext\n",
        "import pandas as pd \n",
        "from nltk.tokenize import word_tokenize\n",
        "from nltk.util import ngrams\n",
        "import nltk"
      ],
      "id": "fl2G55PrHAbi",
      "execution_count": 2,
      "outputs": []
    },
    {
      "cell_type": "code",
      "metadata": {
        "colab": {
          "base_uri": "https://localhost:8080/"
        },
        "id": "4Gdwn8IB6bbe",
        "outputId": "d4ea315a-980c-4437-a548-5cec89e83f58"
      },
      "source": [
        "nltk.download('punkt')"
      ],
      "id": "4Gdwn8IB6bbe",
      "execution_count": 3,
      "outputs": [
        {
          "output_type": "stream",
          "name": "stderr",
          "text": [
            "[nltk_data] Downloading package punkt to /root/nltk_data...\n",
            "[nltk_data]   Package punkt is already up-to-date!\n"
          ]
        },
        {
          "output_type": "execute_result",
          "data": {
            "text/plain": [
              "True"
            ]
          },
          "metadata": {},
          "execution_count": 3
        }
      ]
    },
    {
      "cell_type": "markdown",
      "metadata": {
        "id": "TSf_Ez608Ea6"
      },
      "source": [
        "Creo el sparkSession."
      ],
      "id": "TSf_Ez608Ea6"
    },
    {
      "cell_type": "code",
      "metadata": {
        "id": "scSvibi-HB8G"
      },
      "source": [
        "spark = SparkSession.builder.getOrCreate()\n",
        "sc = spark.sparkContext"
      ],
      "id": "scSvibi-HB8G",
      "execution_count": 4,
      "outputs": []
    },
    {
      "cell_type": "markdown",
      "metadata": {
        "id": "HNes3BU28HE6"
      },
      "source": [
        "Accedo a mi drive para llevar acabo la lectura del archivo."
      ],
      "id": "HNes3BU28HE6"
    },
    {
      "cell_type": "code",
      "metadata": {
        "colab": {
          "base_uri": "https://localhost:8080/"
        },
        "id": "tL5QhT5lHD8m",
        "outputId": "1a620e99-e45c-4a59-dfc3-788df642e896"
      },
      "source": [
        "from google.colab import drive \n",
        "drive.mount('/content/gdrive')\n",
        "sqlContext = SQLContext(sc)"
      ],
      "id": "tL5QhT5lHD8m",
      "execution_count": 5,
      "outputs": [
        {
          "output_type": "stream",
          "name": "stdout",
          "text": [
            "Drive already mounted at /content/gdrive; to attempt to forcibly remount, call drive.mount(\"/content/gdrive\", force_remount=True).\n"
          ]
        },
        {
          "output_type": "stream",
          "name": "stderr",
          "text": [
            "/usr/local/lib/python3.7/dist-packages/pyspark/sql/context.py:79: FutureWarning: Deprecated in 3.0.0. Use SparkSession.builder.getOrCreate() instead.\n",
            "  FutureWarning\n"
          ]
        }
      ]
    },
    {
      "cell_type": "code",
      "metadata": {
        "colab": {
          "base_uri": "https://localhost:8080/"
        },
        "id": "a7b4qCN22Bj_",
        "outputId": "c4f10b0d-a7da-40f6-ec89-1579cf6eba45"
      },
      "source": [
        "!pip install pyarrow"
      ],
      "id": "a7b4qCN22Bj_",
      "execution_count": 6,
      "outputs": [
        {
          "output_type": "stream",
          "name": "stdout",
          "text": [
            "Requirement already satisfied: pyarrow in /usr/local/lib/python3.7/dist-packages (3.0.0)\n",
            "Requirement already satisfied: numpy>=1.16.6 in /usr/local/lib/python3.7/dist-packages (from pyarrow) (1.19.5)\n"
          ]
        }
      ]
    },
    {
      "cell_type": "code",
      "metadata": {
        "colab": {
          "base_uri": "https://localhost:8080/"
        },
        "id": "I9zrmt-rio6H",
        "outputId": "f95c9084-86a7-40f3-ae4c-1ce6f606aadb"
      },
      "source": [
        "!pip install fastparquet"
      ],
      "id": "I9zrmt-rio6H",
      "execution_count": 7,
      "outputs": [
        {
          "output_type": "stream",
          "name": "stdout",
          "text": [
            "Requirement already satisfied: fastparquet in /usr/local/lib/python3.7/dist-packages (0.7.1)\n",
            "Requirement already satisfied: cramjam>=2.3.0 in /usr/local/lib/python3.7/dist-packages (from fastparquet) (2.4.0)\n",
            "Requirement already satisfied: numpy>=1.18 in /usr/local/lib/python3.7/dist-packages (from fastparquet) (1.19.5)\n",
            "Requirement already satisfied: thrift>=0.11.0 in /usr/local/lib/python3.7/dist-packages (from fastparquet) (0.15.0)\n",
            "Requirement already satisfied: fsspec in /usr/local/lib/python3.7/dist-packages (from fastparquet) (2021.10.1)\n",
            "Requirement already satisfied: pandas>=1.1.0 in /usr/local/lib/python3.7/dist-packages (from fastparquet) (1.3.4)\n",
            "Requirement already satisfied: python-dateutil>=2.7.3 in /usr/local/lib/python3.7/dist-packages (from pandas>=1.1.0->fastparquet) (2.8.2)\n",
            "Requirement already satisfied: pytz>=2017.3 in /usr/local/lib/python3.7/dist-packages (from pandas>=1.1.0->fastparquet) (2018.9)\n",
            "Requirement already satisfied: six>=1.5 in /usr/local/lib/python3.7/dist-packages (from python-dateutil>=2.7.3->pandas>=1.1.0->fastparquet) (1.15.0)\n"
          ]
        }
      ]
    },
    {
      "cell_type": "code",
      "metadata": {
        "id": "T8XdWCpv2irv"
      },
      "source": [
        "import pyarrow\n",
        "import fastparquet"
      ],
      "id": "T8XdWCpv2irv",
      "execution_count": 8,
      "outputs": []
    },
    {
      "cell_type": "markdown",
      "metadata": {
        "id": "q_G0xk6m8Lgq"
      },
      "source": [
        "Realizo la lectura del archivo. En este caso lo leere en formato parquet, dado que al tener tantos textos, se producen errores de lectura."
      ],
      "id": "q_G0xk6m8Lgq"
    },
    {
      "cell_type": "code",
      "metadata": {
        "id": "xAR8PQbc26kV"
      },
      "source": [
        "contenido = pd.read_csv('gdrive/My Drive/TP2 - Datos/contents_text_sample.csv')\n",
        "contenido.to_parquet('gdrive/My Drive/TP2 - Datos/contents_text_sample.parquet')\n",
        "del contenido\n",
        "cont = sqlContext.read.parquet('gdrive/My Drive/TP2 - Datos/contents_text_sample.parquet')"
      ],
      "id": "xAR8PQbc26kV",
      "execution_count": 9,
      "outputs": []
    },
    {
      "cell_type": "code",
      "metadata": {
        "id": "oQDUNi8s2w-n"
      },
      "source": [
        "rddCont = cont.rdd"
      ],
      "id": "oQDUNi8s2w-n",
      "execution_count": 10,
      "outputs": []
    },
    {
      "cell_type": "code",
      "metadata": {
        "colab": {
          "base_uri": "https://localhost:8080/"
        },
        "id": "-f4nzdV8-3pa",
        "outputId": "bce471a7-c03e-420c-dc66-053ca9f1ded0"
      },
      "source": [
        "rddCont.take(2)"
      ],
      "id": "-f4nzdV8-3pa",
      "execution_count": 11,
      "outputs": [
        {
          "output_type": "execute_result",
          "data": {
            "text/plain": [
              "[Row(id=50, title='Anacardiaceae', text=\"{{Ficha de taxón\\n| name = Anacardiáceas\\n| image = Gui1 cashewfruit2.jpg\\n| image_caption = ''[[Anacardium occidentale]]''\\n| regnum = [[Plantae]]\\n| divisio  = [[Magnoliophyta]]\\n| classis  = [[Magnoliopsida]]\\n| ordo = [[Sapindales]]\\n| familia = '''Anacardiaceae'''\\n| familia_authority = [[Robert Brown|R.Br.]]\\n| subdivision_ranks = Géneros\\n| subdivision = \\nVer texto\\n}}\\n'''Anacardiaceae''' es una [[familia (biología)|familia]] de [[Plantae|plantas]] esencialmente [[árbol|arbóreas]] y [[arbusto|arbustivas]] perteneciente al [[Orden (biología)|orden]] [[Sapindales]]. La constituyen 77 [[género (biología)|géneros]] con unas 700 especies aceptadas, de las casi 3000 descritas, propias de países tropicales, cálidos y templados.<ref>[http://www.theplantlist.org/1.1/browse/A/Anacardiaceae/ Anacardiaceae en The Plant List, vers. 1.1, 2013]</ref>\\n\\n== Descripción ==\\nSon árboles, arbustos, raramente subarbustos o [[trepadora]]s, frecuentemente con [[savia]] [[veneno]]sa. Son plantas [[dioica]]s, [[monoica]]s, andromonoicas, polígamas o [[hermafrodita]]s. Tienen [[hoja]]s alternas, raramente opuestas o verticiladas, simples o pinnaticompuestas, [[peciolo|pecioladas]] o sésiles, generalmente sin [[estípula]]s; cuando son compuestas, los [[folíolo]]s son opuestos o a veces alternos, de márgenes enteros, serrados o crenados. Las [[inflorescencia]]s son terminales y/o axilares, [[Tirso (inflorescencia)|tirsoides]], [[panícula|paniculadas]], [[racimo|racemosas]] o [[espiga|espigadas]], con [[bráctea]]s y [[bractéola]]s deciduas o persistentes, petaloides o foliosas, de [[flor]]es [[actinomorfa]]s, unisexuales o bisexuales, con [[hipanto]] a veces presente y [[perianto]] generalmente de 2 verticilos. El [[fruto]] es [[drupa|drupáceo]] o [[Sámara (fruto)|samaroide]], carnoso o seco, a veces con un ala lateral o marginal, ocasionalmente con el [[cáliz]] subyacente agrandado (''[[Astronium]]'') o unido a un hipocarpo carnoso (''[[Anacardium]]''). Las [[semilla]]s, en número de 1–12, poseen [[endosperma]] escaso o ausente, un embrión curvado o recto, los [[cotiledón|cotiledones]] generalmente libres, bilobados, iguales o plano-convexos.<ref name = Trop/>\\n\\n== Taxonomía ==\\n'''Anacardiaceae''' fue descrita por [[Robert Brown]] y publicado en ''[[Narrative of an Expedition to Explore the River Zaire]]'', p. 431, 1818.<ref name = Trop>{{cita web |url=http://www.tropicos.org/Name/42000260 |título= Anacardiaceae|fechaacceso=13 de julio de 2013 |obra=  Tropicos.org. [[Missouri Botanical Garden]]}}</ref>\\n\\n== Géneros ==\\n{{lista de columnas|3|\\n* ''[[Abrahamia]]''\\n* ''[[Actinocheita]]''\\n* ''[[Amphipterygium]]''\\n* ''[[Anacardium]]''\\n* ''[[Androtium]]''\\n* ''[[Antrocaryon]]''\\n* ''[[Apterokarpos]]''\\n* ''[[Astronium]]''\\n* ''[[Baronia (Anacardiaceae)|Baronia]]''\\n* ''[[Bonetiella]]''\\n* ''[[Bouea]]''\\n* ''[[Buchanania (Anacardiaceae)|Buchanania]]''\\n* ''[[Campnosperma]]''\\n* ''[[Cardenasiodendron]]''\\n* ''[[Choerospondias]]''\\n* ''[[Comocladia]]''\\n* ''[[Cotinus]]''\\n* ''[[Cyrtocarpa]]''\\n* ''[[Dracontomelon]]''\\n* ''[[Drimycarpus]]''\\n* ''[[Ebandoua]]''\\n* ''[[Euleria]]''\\n* ''[[Euroschinus]]''\\n* ''[[Faguetia]]''\\n* ''[[Fegimanra]]''\\n* ''[[Gluta]]''\\n* ''[[Haematostaphis]]''\\n* ''[[Haplorhus]]''\\n* ''[[Harpephyllum]]''\\n* ''[[Heeria]]''\\n* ''[[Holigarna]]''\\n* ''[[Koordersiodendron]]''\\n* ''[[Lannea]]''\\n* ''[[Laurophyllus]]''\\n* ''[[Lithrea]]''\\n* ''[[Loxopterigium]]''\\n* ''[[Loxostylis]]''\\n* ''[[Mangifera]]''\\n* ''[[Mauria (Anacardiaceae)|Mauria]]''\\n* ''[[Melanochyla]]''\\n* ''[[Metopium]]''\\n* ''[[Micronychia (Anacardiaceae)|Micronychia]]''\\n* ''[[Montagueia]]''\\n* ''[[Mosquitoxylum]]''\\n* ''[[Nothopegia]]''\\n* ''[[Ochoterenaea]]''\\n* ''[[Operculicarya]]''\\n* ''[[Ozoroa]]''\\n* ''[[Pachycormus]]''\\n* ''[[Parishia]]''\\n* ''[[Pegia]]''\\n* ''[[Pentaspadon]]''\\n* ''[[Pistacia]]''\\n* ''[[Pleiogynium]]''\\n* ''[[Poupartia]]''\\n* ''[[Protorhus]]''\\n* ''[[Pseudoprotorhus]]''\\n* ''[[Pseudosmodingium]]''\\n* ''[[Pseudospondias]]''\\n* ''[[Rhodosphaera]]''\\n* ''[[Rhus]]''\\n* ''[[Schinopsis]]''\\n* ''[[Schinus]]''\\n* ''[[Sclerocarya]]''\\n* ''[[Searsia (planta)|Searsia]]''\\n* ''[[Semecarpus]]''\\n* ''[[Smodingium]]''\\n* ''[[Solenocarpus]]''\\n* ''[[Sorindeia]]''\\n* ''[[Spondias]]''\\n* ''[[Swintonia]]''\\n* ''[[Tapirira]]''\\n* ''[[Thyrsodium]]''\\n* ''[[Toxicodendron]]''\\n* ''[[Trichoscypha]]''\\n}}\\n\\n== Sinonimia ==\\n* Blepharocaryaceae, Comocladiaceae, Julianiaceae, Lentiscaceae, Pistaciaceae, Schinaceae, Spondiadaceae, Vernicaceae.\\n* Julianaceae.<ref>{{Enlace roto|1=[http://www.f-lohmueller.de/botany/fam/j/Julianaceae.htm, http://delta-intkey.com/angio/www/podoacea.htm Anacardiaceae en Delta-intkey] |2=http://www.f-lohmueller.de/botany/fam/j/Julianaceae.htm, |bot=InternetArchiveBot }}</ref>\\n\\n== Referencias ==\\n{{listaref}}\\n\\n== Enlaces externos ==\\n{{wikispecies|Anacardiaceae}}\\n{{commonscat|Anacardiaceae}}\\n* [https://web.archive.org/web/20060428185908/http://132.236.163.181/index.html Anacardiaceae en Plant Systematic]\\n* [http://www.chileflora.com/Florachilena/FloraSpanish/PIC_FAMILIES_SIMPLE_Anacardiaceae.php Anacardiaceae de Chile, en Chileflora]\\n* [http://www.botanical-dermatology-database.info/BotDermFolder/ANAC-1.html Anacardiaceae] en [http://www.botanical-dermatology-database.info/index.html BoDD – Botanical Dermatology Database]\\n\\n{{Control de autoridades}}\\n[[Categoría:Anacardiaceae| ]]\"),\n",
              " Row(id=62, title='Antipartícula', text='[[Archivo:Materia antimateria.png|thumb|200px|División del universo en materia y antimateria.]]\\nA la mayor parte de las [[partícula subatómica|partículas]] de la naturaleza le corresponde una \\'\\'\\'antipartícula\\'\\'\\' que posee la misma [[masa]], el mismo [[espín]], pero contraria [[carga eléctrica]]. Algunas partículas son idénticas a su antipartícula, como por ejemplo el [[fotón]], que no tiene carga. Pero no todas las partículas de carga neutra son idénticas a su antipartícula. Siempre hemos tenido la impresión de que las leyes de la naturaleza parecían haber sido diseñadas para que todo fuese simétrico entre partículas y antipartículas hasta que los experimentos de la llamada [[violación CP]] (violación carga-paridad) encontraron que la [[simetría temporal]] se violaba en ciertos sucesos de la naturaleza. El exceso observado de [[barión|bariones]] con respecto a los anti-bariones, en el universo, es uno de los principales problemas sin respuesta de la [[cosmología]].\\n\\nLos pares partícula-antipartícula pueden aniquilarse entre ellos si se encuentran en el [[estado cuántico]] apropiado. Estos estados pueden producirse en varios procesos. Estos procesos se usan en los [[acelerador de partículas|aceleradores de partículas]] para crear nuevas partículas y probar las teorías de la [[física de partículas]]. Los procesos de altas energías en la naturaleza pueden crear antipartículas, y estos son visibles debido a los [[radiación cósmica|rayos cósmicos]] y en ciertas [[reacción nuclear|reacciones nucleares]]. La palabra [[antimateria]] se refiere a las antipartículas elementales, los compuestos de antipartículas hechos con éstas (como el [[antihidrógeno]]) y formaciones mayores que pueden hacerse con ellos.\\n\\n== Historia ==\\n=== El experimento ===\\nEn 1932, poco después de la predicción del [[positrón]] por [[Paul Dirac|Dirac]], {{esd|[[Carl David Anderson|Carl D. Anderson]]}} encontró que las colisiones de los rayos cósmicos producían estas partículas dentro de una [[cámara de niebla]] —un [[detector de partículas]] donde los [[electrón|electrones]] o los [[positrón|positrones]] que se mueven a través de él dejan detrás de ellos trayectorias, marcando su movimiento por el gas—. La relación entre la [[carga eléctrica]] y la [[masa]] de una partícula puede medirse observando las curvas que marcan en su camino por la cámara de niebla dentro de un [[campo magnético]]. Originalmente los positrones, debido a que sus trayectorias también se curvaban, fueron confundidos con electrones que viajaban en la dirección opuesta.\\n\\nEl [[antiprotón]] y el [[antineutrón]] fueron encontrados por [[Emilio Gino Segrè|Emilio Segrè]] y [[Owen Chamberlain]] en 1955, en la universidad de California. Desde entonces se han creado las antipartículas de muchas otras partículas subatómicas en los experimentos con aceleradores de partículas. En años recientes, se ha conseguido generar átomos completos de [[antimateria]] compuestos por antiprotones y positrones, recolectados en trampas electromagnéticas.\\n\\n=== La teoría de Giovanni ===\\n<blockquote>\\n...el desarrollo de la teoría cuántica de campos hizo innecesaria la interpretación de las antipartículas como huecos, incluso aunque desafortunadamente aún persiste en muchos libros de texto.<ref>Steven Weinberg en \\'\\'Teoría cuántica de campos,\\'\\' Vol.{{esd}}I, p.{{esd}}14, ISBN 0-521-55001-7.</ref>\\n</blockquote>\\n\\nLas soluciones de la [[ecuación de Dirac]] contenían estados cuánticos de energía negativa. Como resultado un electrón siempre podría radiar energía cayendo en un estado de energía negativa. Incluso peor que eso, podría estar radiando una cantidad infinita de energía porque habría disponibles infinitos estados de energía negativa. Para resolver esta situación que iba contra la física, Dirac postuló que un \"mar\" de electrones de energía negativa llenaban el universo, ya ocupando todos los estados de energía negativa de forma que, debido al [[principio de exclusión de Pauli]] ningún otro electrón podría caer en ellos. Sin embargo, a veces, una de estas partículas con energía negativa podría ser elevada desde este [[mar de Dirac]] a un nivel de energía mayor para convertirse en una partícula de energía positiva. Pero, cuando era elevada, esta partícula dejaba un \\'\\'hueco\\'\\' detrás en el mar, que actuaría exactamente como un electrón de energía positiva pero con carga contraria. Dirac interpretó estos electrones inversos como protones, y llamó por eso a su artículo de 1930 \\'\\'Una teoría de electrones y protones.\\'\\'\\n\\nDirac ya era consciente del problema de que esta representación implicaba una carga negativa infinita para el universo, e intentó argumentar que nosotros percibiríamos este estado como el estado normal de carga cero. Otra dificultad que esta teoría encontraba era la diferencia entre las masas del electrón y el protón. Aquí Dirac intentó solucionarlo argumentando que esto se debía a las interacciones electromagnéticas con ese \"mar\", hasta que [[Hermann Weyl]] probó que la teoría de huecos era completamente simétrica entre las cargas negativas y positivas. Dirac también predijo una reacción \\'\\'\\'e<sup>-</sup>{{esd}}+{{esd}}p<sup>+</sup>{{esd}}→{{esd}}γ{{esd}}+{{esd}}γ\\'\\'\\' (en la que el electrón y el protón se aniquilaban para dar dos [[fotón|fotones]]). [[Robert Oppenheimer]] e [[Ígor Tam]] probaron que esto causaría que la materia ordinaria desapareciera demasiado deprisa. Un año más tarde, en 1931, Dirac modificó su teoría y postuló el [[positrón]], una partícula nueva de la misma masa que el electrón. El descubrimiento de esa partícula el año siguiente eliminó las dos últimas objeciones a su teoría.\\n\\nSin embargo permanecía el problema de la carga infinita del universo. También, como ahora sabemos, los [[bosón|bosones]] (partículas con spin entero) también poseen antipartículas, pero estos no obedecen el principio de exclusión de Pauli, así que la teoría de los huecos no funciona con ellos. La [[teoría cuántica de campos]] proporciona una interpretación unificada de las antipartículas, que resuelve ambos problemas.\\n\\n== Aniquilación partícula-antipartícula ==\\n{{AP|Aniquilación}}\\nSi una partícula y su antipartícula se encuentran en los estados cuánticos apropiados, entonces pueden \\'\\'\\'aniquilarse\\'\\'\\' la una a la otra y producir otras partículas. Las reacciones como:\\n\\n\\'\\'\\'e<sup>+</sup> {{esd}}+{{esd}} e<sup>-</sup> {{esd}}→{{esd}} γ {{esd}}+{{esd}} γ\\'\\'\\'\\n\\n(aniquilación de un par electrón-positrón en dos fotones) son un ejemplo del proceso.\\n\\nLa aniquilación de un par electrón-positrón en un solo fotón: \\'\\'\\'e<sup>+</sup> {{esd}}+{{esd}} e<sup>-</sup> {{esd}}→{{esd}} γ\\'\\'\\'\\nno puede ocurrir porque es imposible que se conserven la energía y el momento a la vez en este proceso. La reacción inversa es también imposible por esta razón. Sin embargo, este fenómeno se observa en la naturaleza; se puede [[creación de pares|crear]] un par electrón-positrón a partir de un solo fotón con una energía de al menos la masa de ambas partículas: 1.022 MeV. Lo cierto es que, según la [[teoría cuántica de campos]], este proceso está permitido como un estado cuántico intermedio para tiempos suficientemente cortos en los que la violación de la conservación de la energía puede acomodarse al [[Relación de indeterminación de Heisenberg|principio de incertidumbre]] de [[Werner Heisenberg|Heisenberg]]. Esto abre la vía para la producción de \\'\\'pares virtuales\\'\\' o su aniquilación donde el estado cuántico de una sola partícula puede \\'\\'fluctuar\\'\\' en un estado cuántico de dos partículas y volver a su estado inicial. Estos procesos son importantes en el [[estado vacío]] y la [[renormalización]] de una [[teoría cuántica de campos]]. También abre el camino para una [[mezcla de partículas neutras]] a través de procesos como el mostrado aquí, que es un ejemplo complicado de la [[renormalización de la masa]].\\n\\n== Propiedades de las antipartículas ==\\nLos [[estado cuántico|estados cuánticos]] de una partícula y de su antipartícula pueden intercambiarse aplicando la [[simetría de carga]] (\\'\\'\\'C\\'\\'\\'), [[Paridad (física)|paridad]] (\\'\\'\\'P\\'\\'\\'), y la [[simetría temporal]] (\\'\\'\\'T\\'\\'\\'). Si \\'\\'\\'|p,σ,n>\\'\\'\\' es el estado cuántico de una partícula (\\'\\'\\'n\\'\\'\\'), con momento \\'\\'\\'p\\'\\'\\', espín \\'\\'\\'J\\'\\'\\' cuyo componente en la dirección z es σ, entonces tendremos\\n\\n::\\'\\'\\'CPT |p,σ,n> {{esd}}={{esd}} (-1)<sup>J-σ</sup> |p,-σ,n<sup>c</sup>>,\\'\\'\\'\\n\\ndonde \\'\\'\\'n<sup>c</sup>\\'\\'\\' es el estado de carga conjugado, es decir, la antipartícula. Este comportamiento bajo \\'\\'\\'CPT\\'\\'\\' es el mismo que establece que una partícula y su antipartícula están en la misma [[representación irreducible]] del [[grupo de Poincaré]]. Las propiedades de las antipartículas pueden relacionarse así con las de las partículas. Si \\'\\'\\'T\\'\\'\\' es una buena simetría de la dinámica, entonces\\n\\n::\\'\\'\\'T |p,σ,n> {{esd}}α{{esd}} |-p,-σ,n>\\'\\'\\'\\n::\\'\\'\\'CP |p,σ,n> {{esd}}α{{esd}} |-p,σ,n<sup>c</sup>>\\'\\'\\'\\n::\\'\\'\\'C |p,σ,n> {{esd}}α{{esd}} |p,σ,n<sup>c</sup>>,\\'\\'\\'\\n\\ndonde el signo de proporcionalidad indica que podría existir un término de fase en el lado derecho de la ecuación. En otras palabras, la partícula y su antipartícula deben tener:\\n\\n* La misma [[masa]] \\'\\'\\'m\\'\\'\\',\\n* el mismo estado de [[espín]] \\'\\'\\'J\\'\\'\\',\\n* [[carga eléctrica|cargas eléctricas]] opuestas \\'\\'\\'q\\'\\'\\' y \\'\\'\\'-q\\'\\'\\'.\\n\\n== Teoría cuántica de campos ==\\n\\'\\'Esta sección utiliza las ideas, el lenguaje y la notación usada en la [[cuantización canónica]] de la [[teoría cuántica de campos]].\\'\\'\\n\\nSe puede intentar cuantizar el [[campo (física)|campo]] de un electrón sin mezclar los operadores de creación y aniquilación escribiendo:\\n\\n::\\'\\'\\'ψ(x) {{esd}}={{esd}} ∑<sub>k</sub> u<sub>k</sub>(x) a<sub>k</sub> e<sup>-i E(k)t</sup>,\\'\\'\\'\\n\\ndonde se está usando el símbolo \\'\\'\\'k\\'\\'\\' para denotar los números cuánticos \\'\\'\\'p\\'\\'\\' y σ de las secciones anteriores, el signo de la energía \\'\\'\\'E(k)\\'\\'\\' y \\'\\'\\'a<sub>k</sub>\\'\\'\\' denota los operadores correspondientes de aniquilación. Por supuesto, como estamos tratando con [[fermión|fermiones]], los operadores deberán satisfacer las relaciones canónicas anticonmutativas. Sin embargo, si escribimos el [[Hamiltoniano (mecánica cuántica)|Hamiltoniano]]\\n\\n::H {{esd}}={{esd}} ∑<sub>k</sub> E(k) a<sup>+</sup><sub>k</sub> a<sub>k</sub>,\\n\\nvemos inmediatamente que el valor esperado de \\'\\'\\'H\\'\\'\\' no necesita ser positivo. Esto ocurre porque \\'\\'\\'E(k)\\'\\'\\' puede tener cualquier signo posible, y la combinación de operadores de creación y de aniquilación tiene valor esperado 1 o 0.\\n\\nAsí pues se debe introducir el campo \\'\\'antipartícula\\'\\' de carga conjugada con sus propios operadores de creación y de aniquilación que satisfagan las siguientes relaciones:\\n\\n::\\'\\'\\'b<sub>k\\'</sub> {{esd}}={{esd}} a<sup>+</sup><sub>k</sub>\\'\\'\\' y \\'\\'\\'b<sup>+</sup><sub>k\\'</sub> {{esd}}={{esd}} a<sub>k</sub>\\'\\'\\'\\n\\ndonde \\'\\'\\'k\\'\\'\\'\\' tiene el mismo \\'\\'\\'p\\'\\'\\', σ y signo de la energía opuestos. Así podemos reescribir el campo en la forma:\\n\\n::\\'\\'\\'ψ(x) {{esd}}={{esd}} ∑<sub>k(+)</sub> u<sub>k</sub>(x) a<sub>k</sub> e<sup>-i E(k)t</sup> {{esd}}+{{esd}} ∑<sub>k(-)</sub> u<sub>k</sub>(x) b<sup>+</sup><sub>k</sub> e<sup>-i E(k)t</sup>,\\'\\'\\'\\n\\ndonde el primer sumatorio se realiza sobre los estados positivos de energía y el segundo sobre los de energía negativa. La energía entonces se transforma en\\n\\n::\\'\\'\\'H {{esd}}={{esd}} ∑<sub>k(+)</sub> E(k) a<sup>+</sup><sub>k</sub> a<sub>k</sub> {{esd}}+{{esd}} ∑<sub>k(-)</sub> |E(k)| b<sup>+</sup><sub>k</sub> b<sub>k</sub> {{esd}}+{{esd}} E<sub>0</sub>,\\'\\'\\'\\n\\ndonde \\'\\'\\'E<sub>0</sub>\\'\\'\\' es una constante infinita negativa. El [[estado vacío]] se define como el estado que no contiene ninguna partícula ni antipartícula, es decir, \\'\\'\\'a<sub>k</sub> |0> = 0\\'\\'\\' y \\'\\'\\'b<sub>k</sub> |0> = 0\\'\\'\\'. De esta forma la energía del vacío será exactamente \\'\\'\\'E<sub>0</sub>\\'\\'\\'. Como todas las energías se miden con respecto al vacío, \\'\\'\\'H\\'\\'\\' será definitivamente positiva. Un análisis de las propiedades de \\'\\'\\'a<sub>k</sub>\\'\\'\\' y de \\'\\'\\'b<sub>k</sub>\\'\\'\\' muestra que uno es el operador de aniquilación para las partículas y el otro para las antipartículas. Este es el caso de un [[fermión]].\\n\\nEsta aproximación se la debemos a [[Vladímir Fok]], [[Wendell Furry]] y [[Robert Oppenheimer]]. Si se cuantiza un [[campo escalar]] real, entonces se encuentra que solo hay una clase de operador de aniquilación, así pues los campos escalares describen a los [[bosón|bosones]] neutros. Como los campos escalares complejos admiten dos clases diferentes de operadores de aniquilación, que están relacionados por conjugación, esos campos describen [[bosón|bosones]] cargados.\\n\\n=== La interpretación de Feynman y Stueckelberg ===\\nConsiderando la propagación hacia atrás en el tiempo de la mitad del campo del electrón que tiene energías positivas, [[Richard Feynman]] mostró que se violaba la [[Causalidad (física)|causalidad]] a menos que se permitiera que algunas partículas viajaran más rápidas que la luz. Pero si las partículas pudieran viajar más rápido que la luz entonces, desde el punto de vista de otro [[observador inercial]] parecería como si estuviera viajando atrás en el tiempo y con carga opuesta.\\n\\nDe esta forma Feynman llegó a entender de forma gráfica el hecho de que la partícula y su antipartícula tuvieran la misma masa \\'\\'\\'m\\'\\'\\' y spin \\'\\'\\'J\\'\\'\\' pero cargas opuestas. Esto le permitió reescribir la [[teoría perturbacional|teoría de perturbaciones]] de forma precisa en forma de diagramas, llamados [[diagrama de Feynman|diagramas de Feynman]], con partículas viajando adelante y atrás en el tiempo. Esta técnica es ahora la más extendida para calcular amplitudes en la [[teoría cuántica de campos]].\\n\\nEste gráfico fue desarrollado de forma independiente por [[Ernest Stueckelberg]], y por eso se ha dado en llamar la \\'\\'\\'interpretación de Feynman y Stueckelberg\\'\\'\\' de las antipartículas.\\n\\n== Véase también ==\\n* [[Antimateria]]\\n* [[Teoría cuántica de campos]]\\n\\n== Referencias ==\\n{{listaref}}\\n\\n== Enlaces externos ==\\n{{wikcionario}}\\n\\n{{Control de autoridades}}\\n\\n[[Categoría:Antimateria]]')]"
            ]
          },
          "metadata": {},
          "execution_count": 11
        }
      ]
    },
    {
      "cell_type": "markdown",
      "metadata": {
        "id": "yVFivNn-8VCp"
      },
      "source": [
        "Genero un listado de simbolos para filtarlos y a la hora de generar los ngramas, el word_tokenize no asuma que un simbolo(suelto) es una palabra."
      ],
      "id": "yVFivNn-8VCp"
    },
    {
      "cell_type": "code",
      "metadata": {
        "id": "CG-ZivKnUYbA"
      },
      "source": [
        "symbols = ['!',',','\"','#','$','%','&','\\',''','(',')','()','*','+','-','.','/',':',';','<','=','>','?','@','[','\\,',']','^','_','`','``','','{','|','}','{}','[]','~','pipe', \"''\", \"'\", '||', '==','--']"
      ],
      "id": "CG-ZivKnUYbA",
      "execution_count": 12,
      "outputs": []
    },
    {
      "cell_type": "markdown",
      "metadata": {
        "id": "JbXhMTev8fDL"
      },
      "source": [
        "Creo la funcion obtener_ngrams, que recibe por parametro un texto y un n, que sera la cantidad de particiones, es decri si n es 3, sera un trigrama."
      ],
      "id": "JbXhMTev8fDL"
    },
    {
      "cell_type": "code",
      "metadata": {
        "id": "nHS9rFrQzGPL"
      },
      "source": [
        "def obtener_ngrams(texto, n):\n",
        "    text = texto.lower()\n",
        "    text = word_tokenize(text)\n",
        "    list_text = []\n",
        "\n",
        "    for w in text:\n",
        "        if w not in symbols:    #quito los simbolos sueltos\n",
        "            if w[0] in symbols:\n",
        "                w = w[1:]\n",
        "            elif w[-1] in symbols:\n",
        "                w = w[0:-1]\n",
        "            list_text.append(w) \n",
        "    \n",
        "    n_grams = ngrams(list_text, n)\n",
        "    return n_grams"
      ],
      "id": "nHS9rFrQzGPL",
      "execution_count": 13,
      "outputs": []
    },
    {
      "cell_type": "markdown",
      "metadata": {
        "id": "3EobtY6P3JSg"
      },
      "source": [
        "Uso el .sample para usar el 1% del rdd porque me tarda mas de hora y media ejecutar el tokenize para el rdd completo.\n"
      ],
      "id": "3EobtY6P3JSg"
    },
    {
      "cell_type": "markdown",
      "metadata": {
        "id": "TnoNn8Lh8u16"
      },
      "source": [
        "Creo la funcion obtenerRDD, que recibe por parametro un RDD y un n. Devuelve un RDD de ngramas, que cada cual tiene su frecuencia en el texto."
      ],
      "id": "TnoNn8Lh8u16"
    },
    {
      "cell_type": "code",
      "metadata": {
        "id": "_8wQnWGfqlr7"
      },
      "source": [
        "def obtenerRDD(rdd,n):\n",
        "    rddListo = rdd.filter(lambda x: x.text != None) #Limpio el RDD de los None en los textos, que es la parte del RDD con la que trabajare.\n",
        "    rddListo = rddListo.sample(False,0.01).flatMap(lambda x: [y for y in obtener_ngrams(x.text,n)]) #obtener_ngrams recibe el texto y el n para los n-grams\n",
        "    rddListo = rddListo.map(lambda x: (x,1)).reduceByKey(lambda x,y: x+y) #realizo en primer lugar el map, para que me quede una estructura por ngrama del estilo ((ngrama),1),\n",
        "                                                                          # y luego calculo la frecuencia del ngrama en el texto con el reduceByKey\n",
        "    return rddListo"
      ],
      "id": "_8wQnWGfqlr7",
      "execution_count": 14,
      "outputs": []
    },
    {
      "cell_type": "markdown",
      "metadata": {
        "id": "xAZsToUO89Tq"
      },
      "source": [
        "Calculo el RDD de ngramas para el rddCont (rdd del contents_text_sample). En este caso le indicio que n es igual a 5."
      ],
      "id": "xAZsToUO89Tq"
    },
    {
      "cell_type": "code",
      "metadata": {
        "id": "WLdkXJy0A7l3"
      },
      "source": [
        "rddNgrams = obtenerRDD(rddCont, n=5)"
      ],
      "id": "WLdkXJy0A7l3",
      "execution_count": 15,
      "outputs": []
    },
    {
      "cell_type": "markdown",
      "metadata": {
        "id": "q_E0mVMC9IKK"
      },
      "source": [
        "Verifico que lo me devuelve mi funcion es del tipo RDD."
      ],
      "id": "q_E0mVMC9IKK"
    },
    {
      "cell_type": "code",
      "metadata": {
        "colab": {
          "base_uri": "https://localhost:8080/"
        },
        "id": "rOmmOHjGgXFU",
        "outputId": "58a16ddf-f86e-4f7a-f5a8-8bf3968efee1"
      },
      "source": [
        "type(rddNgrams)"
      ],
      "id": "rOmmOHjGgXFU",
      "execution_count": 16,
      "outputs": [
        {
          "output_type": "execute_result",
          "data": {
            "text/plain": [
              "pyspark.rdd.PipelinedRDD"
            ]
          },
          "metadata": {},
          "execution_count": 16
        }
      ]
    },
    {
      "cell_type": "markdown",
      "metadata": {
        "id": "4z_oemrM-BP6"
      },
      "source": [
        "***Resultado***"
      ],
      "id": "4z_oemrM-BP6"
    },
    {
      "cell_type": "code",
      "metadata": {
        "colab": {
          "base_uri": "https://localhost:8080/"
        },
        "id": "S3OBbbx5rPom",
        "outputId": "45d0c4e6-dd90-4d83-887b-193be87d4163"
      },
      "source": [
        "rddNgrams.takeOrdered(10,lambda x: -x[1])"
      ],
      "id": "S3OBbbx5rPom",
      "execution_count": 17,
      "outputs": [
        {
          "output_type": "execute_result",
          "data": {
            "text/plain": [
              "[(('bgcolor=', 'bgcolor=', 'bgcolor=', 'bgcolor=', 'bgcolor='), 387),\n",
              " (('censo', 'de', 'los', 'estados', 'unidos'), 323),\n",
              " (('style', 'text-align', 'center', 'top', 'rowspan=2'), 169),\n",
              " (('de', 'los', 'estados', 'unidos', 'de'), 155),\n",
              " (('ref', 'cita', 'web', 'url', 'http'), 155),\n",
              " (('raza', 'censo', 'de', 'los', 'estados'), 154),\n",
              " (('de', '2010', 'idioma', 'inglés', 'ref'), 143),\n",
              " (('editor', 'centro', 'nacional', 'de', 'huracanes'), 134),\n",
              " (('centro', 'nacional', 'de', 'huracanes', 'autor'), 134),\n",
              " (('style', 'text-align', 'center', 'top', 'rowspan=1'), 125)]"
            ]
          },
          "metadata": {},
          "execution_count": 17
        }
      ]
    },
    {
      "cell_type": "markdown",
      "metadata": {
        "id": "vCIOPE2M-FwJ"
      },
      "source": [
        "*Observación:* asumo que el word_tokenize esta tomando por ejemplo \"|nombre\" como una unica palabra. Y que el problema de los simbolos sueltos esta resultado, dado que ya no hay simbolos sueltos en los ngramas, como si me habian quedado en un primer momento.\n",
        "\n",
        "He leido la documentación del tokenize y no he encontrado ninguna alternativa para \"filtrar\" los simbolos del texto. Recurri a otros métodos particulares, como el split, y tampoco funciono. Tambien probe realizando .replace() por palabra, pero el costo computacional se hacia muy alto. Entre otras opciones que probe para solucionar esto. \n",
        "\n",
        "Por ultimo, realice un analisis de los datos, y al notar que en la mayoria de los casos, los simbolos que no tenian sentido que esten siendo considerados como parte de una palabra se encontraban o al principio o al final de esta, opte por trabajar con unicamente la primer y ultima letra de cada palabra, para ahorrarme de esta forma, recorrer tooodas las letras de cada palabra del texto."
      ],
      "id": "vCIOPE2M-FwJ"
    },
    {
      "cell_type": "code",
      "metadata": {
        "id": "_uhp6PUWMSIg"
      },
      "source": [
        ""
      ],
      "id": "_uhp6PUWMSIg",
      "execution_count": 17,
      "outputs": []
    }
  ]
}