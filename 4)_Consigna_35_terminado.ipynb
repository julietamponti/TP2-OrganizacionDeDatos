{
  "nbformat": 4,
  "nbformat_minor": 5,
  "metadata": {
    "kernelspec": {
      "display_name": "Python 3",
      "language": "python",
      "name": "python3"
    },
    "language_info": {
      "codemirror_mode": {
        "name": "ipython",
        "version": 3
      },
      "file_extension": ".py",
      "mimetype": "text/x-python",
      "name": "python",
      "nbconvert_exporter": "python",
      "pygments_lexer": "ipython3",
      "version": "3.8.8"
    },
    "colab": {
      "name": "4) Consigna 35 - terminado.ipynb",
      "provenance": [],
      "collapsed_sections": [],
      "include_colab_link": true
    }
  },
  "cells": [
    {
      "cell_type": "markdown",
      "metadata": {
        "id": "view-in-github",
        "colab_type": "text"
      },
      "source": [
        "<a href=\"https://colab.research.google.com/github/julietamponti/tp2Datos-2C2021-/blob/main/4)_Consigna_35_terminado.ipynb\" target=\"_parent\"><img src=\"https://colab.research.google.com/assets/colab-badge.svg\" alt=\"Open In Colab\"/></a>"
      ]
    },
    {
      "cell_type": "markdown",
      "metadata": {
        "id": "554e31b3"
      },
      "source": [
        "## ***¿Cuál es el mínimo que ha durado desde su registro un usuario bloqueado en la plataforma?***"
      ],
      "id": "554e31b3"
    },
    {
      "cell_type": "markdown",
      "metadata": {
        "id": "8uSzJX1iDdTD"
      },
      "source": [
        "Realizo la instalación de todo lo que utilizare en el desarrollo de la consulta."
      ],
      "id": "8uSzJX1iDdTD"
    },
    {
      "cell_type": "code",
      "metadata": {
        "id": "2c061e34",
        "colab": {
          "base_uri": "https://localhost:8080/"
        },
        "outputId": "2c7a4eb1-5eb7-463d-b5ef-b896140efefe"
      },
      "source": [
        "!pip install pyspark\n",
        "!pip install -U -q PyDrive\n",
        "!apt update\n",
        "!apt install openjdk-8-jdk-headless -qq\n",
        "#!apt install default-jre\n",
        "#!apt install default-jdk\n",
        "import os\n",
        "os.environ[\"JAVA_HOME\"] = \"/usr/lib/jvm/java-8-openjdk-amd64\""
      ],
      "id": "2c061e34",
      "execution_count": null,
      "outputs": [
        {
          "output_type": "stream",
          "name": "stdout",
          "text": [
            "Collecting pyspark\n",
            "  Downloading pyspark-3.2.0.tar.gz (281.3 MB)\n",
            "\u001b[K     |████████████████████████████████| 281.3 MB 38 kB/s \n",
            "\u001b[?25hCollecting py4j==0.10.9.2\n",
            "  Downloading py4j-0.10.9.2-py2.py3-none-any.whl (198 kB)\n",
            "\u001b[K     |████████████████████████████████| 198 kB 54.6 MB/s \n",
            "\u001b[?25hBuilding wheels for collected packages: pyspark\n",
            "  Building wheel for pyspark (setup.py) ... \u001b[?25l\u001b[?25hdone\n",
            "  Created wheel for pyspark: filename=pyspark-3.2.0-py2.py3-none-any.whl size=281805912 sha256=2f357144c4c263071725cdea85380245e557e4f432bb8eba278ac472c91b225d\n",
            "  Stored in directory: /root/.cache/pip/wheels/0b/de/d2/9be5d59d7331c6c2a7c1b6d1a4f463ce107332b1ecd4e80718\n",
            "Successfully built pyspark\n",
            "Installing collected packages: py4j, pyspark\n",
            "Successfully installed py4j-0.10.9.2 pyspark-3.2.0\n",
            "Get:1 https://cloud.r-project.org/bin/linux/ubuntu bionic-cran40/ InRelease [3,626 B]\n",
            "Get:2 http://security.ubuntu.com/ubuntu bionic-security InRelease [88.7 kB]\n",
            "Ign:3 https://developer.download.nvidia.com/compute/cuda/repos/ubuntu1804/x86_64  InRelease\n",
            "Hit:4 http://ppa.launchpad.net/c2d4u.team/c2d4u4.0+/ubuntu bionic InRelease\n",
            "Ign:5 https://developer.download.nvidia.com/compute/machine-learning/repos/ubuntu1804/x86_64  InRelease\n",
            "Hit:6 http://archive.ubuntu.com/ubuntu bionic InRelease\n",
            "Get:7 https://developer.download.nvidia.com/compute/cuda/repos/ubuntu1804/x86_64  Release [696 B]\n",
            "Hit:8 https://developer.download.nvidia.com/compute/machine-learning/repos/ubuntu1804/x86_64  Release\n",
            "Get:9 https://developer.download.nvidia.com/compute/cuda/repos/ubuntu1804/x86_64  Release.gpg [836 B]\n",
            "Hit:10 http://ppa.launchpad.net/cran/libgit2/ubuntu bionic InRelease\n",
            "Get:11 http://archive.ubuntu.com/ubuntu bionic-updates InRelease [88.7 kB]\n",
            "Hit:12 http://ppa.launchpad.net/deadsnakes/ppa/ubuntu bionic InRelease\n",
            "Get:13 http://security.ubuntu.com/ubuntu bionic-security/main amd64 Packages [2,398 kB]\n",
            "Get:14 http://archive.ubuntu.com/ubuntu bionic-backports InRelease [74.6 kB]\n",
            "Hit:15 http://ppa.launchpad.net/graphics-drivers/ppa/ubuntu bionic InRelease\n",
            "Get:16 http://security.ubuntu.com/ubuntu bionic-security/universe amd64 Packages [1,434 kB]\n",
            "Get:18 https://developer.download.nvidia.com/compute/cuda/repos/ubuntu1804/x86_64  Packages [786 kB]\n",
            "Get:19 http://archive.ubuntu.com/ubuntu bionic-updates/main amd64 Packages [2,835 kB]\n",
            "Get:20 http://archive.ubuntu.com/ubuntu bionic-updates/universe amd64 Packages [2,213 kB]\n",
            "Fetched 9,924 kB in 3s (3,358 kB/s)\n",
            "Reading package lists... Done\n",
            "Building dependency tree       \n",
            "Reading state information... Done\n",
            "38 packages can be upgraded. Run 'apt list --upgradable' to see them.\n",
            "The following package was automatically installed and is no longer required:\n",
            "  libnvidia-common-460\n",
            "Use 'apt autoremove' to remove it.\n",
            "The following additional packages will be installed:\n",
            "  openjdk-8-jre-headless\n",
            "Suggested packages:\n",
            "  openjdk-8-demo openjdk-8-source libnss-mdns fonts-dejavu-extra\n",
            "  fonts-ipafont-gothic fonts-ipafont-mincho fonts-wqy-microhei\n",
            "  fonts-wqy-zenhei fonts-indic\n",
            "The following NEW packages will be installed:\n",
            "  openjdk-8-jdk-headless openjdk-8-jre-headless\n",
            "0 upgraded, 2 newly installed, 0 to remove and 38 not upgraded.\n",
            "Need to get 36.5 MB of archives.\n",
            "After this operation, 143 MB of additional disk space will be used.\n",
            "Selecting previously unselected package openjdk-8-jre-headless:amd64.\n",
            "(Reading database ... 155062 files and directories currently installed.)\n",
            "Preparing to unpack .../openjdk-8-jre-headless_8u292-b10-0ubuntu1~18.04_amd64.deb ...\n",
            "Unpacking openjdk-8-jre-headless:amd64 (8u292-b10-0ubuntu1~18.04) ...\n",
            "Selecting previously unselected package openjdk-8-jdk-headless:amd64.\n",
            "Preparing to unpack .../openjdk-8-jdk-headless_8u292-b10-0ubuntu1~18.04_amd64.deb ...\n",
            "Unpacking openjdk-8-jdk-headless:amd64 (8u292-b10-0ubuntu1~18.04) ...\n",
            "Setting up openjdk-8-jre-headless:amd64 (8u292-b10-0ubuntu1~18.04) ...\n",
            "update-alternatives: using /usr/lib/jvm/java-8-openjdk-amd64/jre/bin/orbd to provide /usr/bin/orbd (orbd) in auto mode\n",
            "update-alternatives: using /usr/lib/jvm/java-8-openjdk-amd64/jre/bin/servertool to provide /usr/bin/servertool (servertool) in auto mode\n",
            "update-alternatives: using /usr/lib/jvm/java-8-openjdk-amd64/jre/bin/tnameserv to provide /usr/bin/tnameserv (tnameserv) in auto mode\n",
            "Setting up openjdk-8-jdk-headless:amd64 (8u292-b10-0ubuntu1~18.04) ...\n",
            "update-alternatives: using /usr/lib/jvm/java-8-openjdk-amd64/bin/idlj to provide /usr/bin/idlj (idlj) in auto mode\n",
            "update-alternatives: using /usr/lib/jvm/java-8-openjdk-amd64/bin/wsimport to provide /usr/bin/wsimport (wsimport) in auto mode\n",
            "update-alternatives: using /usr/lib/jvm/java-8-openjdk-amd64/bin/jsadebugd to provide /usr/bin/jsadebugd (jsadebugd) in auto mode\n",
            "update-alternatives: using /usr/lib/jvm/java-8-openjdk-amd64/bin/native2ascii to provide /usr/bin/native2ascii (native2ascii) in auto mode\n",
            "update-alternatives: using /usr/lib/jvm/java-8-openjdk-amd64/bin/javah to provide /usr/bin/javah (javah) in auto mode\n",
            "update-alternatives: using /usr/lib/jvm/java-8-openjdk-amd64/bin/hsdb to provide /usr/bin/hsdb (hsdb) in auto mode\n",
            "update-alternatives: using /usr/lib/jvm/java-8-openjdk-amd64/bin/clhsdb to provide /usr/bin/clhsdb (clhsdb) in auto mode\n",
            "update-alternatives: using /usr/lib/jvm/java-8-openjdk-amd64/bin/extcheck to provide /usr/bin/extcheck (extcheck) in auto mode\n",
            "update-alternatives: using /usr/lib/jvm/java-8-openjdk-amd64/bin/schemagen to provide /usr/bin/schemagen (schemagen) in auto mode\n",
            "update-alternatives: using /usr/lib/jvm/java-8-openjdk-amd64/bin/xjc to provide /usr/bin/xjc (xjc) in auto mode\n",
            "update-alternatives: using /usr/lib/jvm/java-8-openjdk-amd64/bin/jhat to provide /usr/bin/jhat (jhat) in auto mode\n",
            "update-alternatives: using /usr/lib/jvm/java-8-openjdk-amd64/bin/wsgen to provide /usr/bin/wsgen (wsgen) in auto mode\n"
          ]
        }
      ]
    },
    {
      "cell_type": "code",
      "metadata": {
        "colab": {
          "base_uri": "https://localhost:8080/"
        },
        "id": "oOh1jpB7neUn",
        "outputId": "b55ed8d2-8c32-4cc4-e82e-ced2d5615172"
      },
      "source": [
        "!pip install pyarrow"
      ],
      "id": "oOh1jpB7neUn",
      "execution_count": null,
      "outputs": [
        {
          "output_type": "stream",
          "name": "stdout",
          "text": [
            "Requirement already satisfied: pyarrow in /usr/local/lib/python3.7/dist-packages (3.0.0)\n",
            "Requirement already satisfied: numpy>=1.16.6 in /usr/local/lib/python3.7/dist-packages (from pyarrow) (1.19.5)\n"
          ]
        }
      ]
    },
    {
      "cell_type": "markdown",
      "metadata": {
        "id": "XbWZZhnaDgEb"
      },
      "source": [
        "Importo las librerias."
      ],
      "id": "XbWZZhnaDgEb"
    },
    {
      "cell_type": "code",
      "metadata": {
        "id": "f6-k4NpCnNVf"
      },
      "source": [
        "from pydrive.auth import GoogleAuth\n",
        "from pydrive.drive import GoogleDrive\n",
        "from google.colab import auth\n",
        "from oauth2client.client import GoogleCredentials\n",
        "from pyspark.sql import *\n",
        "from pyspark.sql.functions import *\n",
        "from pyspark import SparkContext\n",
        "from pyspark.sql import SQLContext\n",
        "import pandas as pd "
      ],
      "id": "f6-k4NpCnNVf",
      "execution_count": null,
      "outputs": []
    },
    {
      "cell_type": "code",
      "metadata": {
        "id": "WvBW6BsAnhmS"
      },
      "source": [
        "import pyarrow"
      ],
      "id": "WvBW6BsAnhmS",
      "execution_count": null,
      "outputs": []
    },
    {
      "cell_type": "markdown",
      "metadata": {
        "id": "AzV8hbg8Mcnz"
      },
      "source": [
        "Creo el SparkSession."
      ],
      "id": "AzV8hbg8Mcnz"
    },
    {
      "cell_type": "code",
      "metadata": {
        "id": "-JxzYizTnPh_"
      },
      "source": [
        "spark = SparkSession.builder.getOrCreate()\n",
        "sc = spark.sparkContext"
      ],
      "id": "-JxzYizTnPh_",
      "execution_count": null,
      "outputs": []
    },
    {
      "cell_type": "markdown",
      "metadata": {
        "id": "KVqzuByyMfXD"
      },
      "source": [
        "Accedo a mi google drive para acceder al archivo."
      ],
      "id": "KVqzuByyMfXD"
    },
    {
      "cell_type": "code",
      "metadata": {
        "colab": {
          "base_uri": "https://localhost:8080/"
        },
        "id": "CE7yipd_nRsN",
        "outputId": "2fb29efd-3c94-4129-c233-290860a239ab"
      },
      "source": [
        "from google.colab import drive \n",
        "drive.mount('/content/gdrive')\n",
        "sqlContext = SQLContext(sc)"
      ],
      "id": "CE7yipd_nRsN",
      "execution_count": null,
      "outputs": [
        {
          "output_type": "stream",
          "name": "stdout",
          "text": [
            "Mounted at /content/gdrive\n"
          ]
        },
        {
          "output_type": "stream",
          "name": "stderr",
          "text": [
            "/usr/local/lib/python3.7/dist-packages/pyspark/sql/context.py:79: FutureWarning: Deprecated in 3.0.0. Use SparkSession.builder.getOrCreate() instead.\n",
            "  FutureWarning\n"
          ]
        }
      ]
    },
    {
      "cell_type": "markdown",
      "metadata": {
        "id": "y7NHXH4sKCbc"
      },
      "source": [
        "Lo pase a .parquet desde el local al archivo, porque desde colab no me dejaba, me saltaba un error con el drive.\n"
      ],
      "id": "y7NHXH4sKCbc"
    },
    {
      "cell_type": "markdown",
      "metadata": {
        "id": "A3SdYCz1NPtz"
      },
      "source": [
        "Leo el archivo."
      ],
      "id": "A3SdYCz1NPtz"
    },
    {
      "cell_type": "code",
      "metadata": {
        "id": "m_SZRhNgqQUO"
      },
      "source": [
        "logs = sqlContext.read.parquet('gdrive/My Drive/TP2 - Datos/logs.parquet')"
      ],
      "id": "m_SZRhNgqQUO",
      "execution_count": null,
      "outputs": []
    },
    {
      "cell_type": "code",
      "metadata": {
        "id": "-aZvRDdZn7Ye"
      },
      "source": [
        "rddLogs = logs.rdd"
      ],
      "id": "-aZvRDdZn7Ye",
      "execution_count": null,
      "outputs": []
    },
    {
      "cell_type": "markdown",
      "metadata": {
        "id": "NTrcggnWNSVb"
      },
      "source": [
        "Limpio el rdd."
      ],
      "id": "NTrcggnWNSVb"
    },
    {
      "cell_type": "code",
      "metadata": {
        "id": "q-v3IdOJ-DIO"
      },
      "source": [
        "rddLogs = rddLogs.filter(lambda x: x.contributor_username != None and x.title != None)"
      ],
      "id": "q-v3IdOJ-DIO",
      "execution_count": null,
      "outputs": []
    },
    {
      "cell_type": "markdown",
      "metadata": {
        "id": "3i5jt64tNUTz"
      },
      "source": [
        "Filtro por bloqueados."
      ],
      "id": "3i5jt64tNUTz"
    },
    {
      "cell_type": "code",
      "metadata": {
        "id": "elgW5-4Kn8ME"
      },
      "source": [
        "rddBloq = rddLogs.filter(lambda x: x.logtype == 'block')"
      ],
      "id": "elgW5-4Kn8ME",
      "execution_count": null,
      "outputs": []
    },
    {
      "cell_type": "markdown",
      "metadata": {
        "id": "FYQDzOPgNXIL"
      },
      "source": [
        "Averiguo cuales fueron los usuarios bloqueados y en que fecha. Me quedo con ese formato de RDD."
      ],
      "id": "FYQDzOPgNXIL"
    },
    {
      "cell_type": "code",
      "metadata": {
        "id": "iDKjbolXCP-u"
      },
      "source": [
        "rddBlock = rddBloq.map(lambda x: (x.title.split(':')[1],pd.to_datetime(x.timestamp)))"
      ],
      "id": "iDKjbolXCP-u",
      "execution_count": null,
      "outputs": []
    },
    {
      "cell_type": "markdown",
      "metadata": {
        "id": "8b-nXl29NbQz"
      },
      "source": [
        "Libero RAM."
      ],
      "id": "8b-nXl29NbQz"
    },
    {
      "cell_type": "code",
      "metadata": {
        "id": "NFN_Gd1-NmG1"
      },
      "source": [
        "del rddBloq"
      ],
      "id": "NFN_Gd1-NmG1",
      "execution_count": null,
      "outputs": []
    },
    {
      "cell_type": "code",
      "metadata": {
        "colab": {
          "base_uri": "https://localhost:8080/"
        },
        "id": "qOncda-e0Mtq",
        "outputId": "eba54c79-d29f-4d8b-8428-3af5fcdaa282"
      },
      "source": [
        "rddBlock.take(2)"
      ],
      "id": "qOncda-e0Mtq",
      "execution_count": null,
      "outputs": [
        {
          "output_type": "execute_result",
          "data": {
            "text/plain": [
              "[('212.55.30.157', Timestamp('2004-12-23 08:28:32+0000', tz='UTC')),\n",
              " ('201.241.228.15', Timestamp('2004-12-27 17:54:50+0000', tz='UTC'))]"
            ]
          },
          "metadata": {},
          "execution_count": 13
        }
      ]
    },
    {
      "cell_type": "markdown",
      "metadata": {
        "id": "PWjbv7KpNdxL"
      },
      "source": [
        "Me quedo con la fecha del primer bloqueo del usuario."
      ],
      "id": "PWjbv7KpNdxL"
    },
    {
      "cell_type": "code",
      "metadata": {
        "id": "qFiWyTLQQB-z"
      },
      "source": [
        "rddBlock = rddBlock.reduceByKey(lambda a,b: a if a < b else b)"
      ],
      "id": "qFiWyTLQQB-z",
      "execution_count": null,
      "outputs": []
    },
    {
      "cell_type": "code",
      "metadata": {
        "colab": {
          "base_uri": "https://localhost:8080/"
        },
        "id": "m9HVfJ_V0Syg",
        "outputId": "89b1d5f8-065c-4c08-9085-e7333857ced6"
      },
      "source": [
        "rddBlock.take(2)"
      ],
      "id": "m9HVfJ_V0Syg",
      "execution_count": null,
      "outputs": [
        {
          "output_type": "execute_result",
          "data": {
            "text/plain": [
              "[('201.255.50.32', Timestamp('2004-12-27 17:57:12+0000', tz='UTC')),\n",
              " ('81.192.30.42', Timestamp('2004-12-29 14:12:24+0000', tz='UTC'))]"
            ]
          },
          "metadata": {},
          "execution_count": 15
        }
      ]
    },
    {
      "cell_type": "markdown",
      "metadata": {
        "id": "NWtuNzK7Nkv7"
      },
      "source": [
        "Filtro por registro de usuarios (durante todo el desarrollo trabajo con los usuarios ***registrados***)."
      ],
      "id": "NWtuNzK7Nkv7"
    },
    {
      "cell_type": "code",
      "metadata": {
        "id": "ZnbCTkE5C5mU"
      },
      "source": [
        "rddNewUser = rddLogs.filter(lambda x: x.logtype == 'newusers')"
      ],
      "id": "ZnbCTkE5C5mU",
      "execution_count": null,
      "outputs": []
    },
    {
      "cell_type": "markdown",
      "metadata": {
        "id": "n95GQtTINweT"
      },
      "source": [
        "Libero RAM."
      ],
      "id": "n95GQtTINweT"
    },
    {
      "cell_type": "code",
      "metadata": {
        "id": "NAuAQeCeNiVV"
      },
      "source": [
        "del rddLogs"
      ],
      "id": "NAuAQeCeNiVV",
      "execution_count": null,
      "outputs": []
    },
    {
      "cell_type": "markdown",
      "metadata": {
        "id": "_KyOnoTMNya7"
      },
      "source": [
        "Me quedo con un RDD que tiene el username del usuario creado y la fecha en que se creo el usuario."
      ],
      "id": "_KyOnoTMNya7"
    },
    {
      "cell_type": "code",
      "metadata": {
        "id": "b_O70cGlJYgd"
      },
      "source": [
        "rddUser =  rddNewUser.map(lambda x: (x.contributor_username,pd.to_datetime(x.timestamp)))"
      ],
      "id": "b_O70cGlJYgd",
      "execution_count": null,
      "outputs": []
    },
    {
      "cell_type": "markdown",
      "metadata": {
        "id": "0f7YvnkKODK7"
      },
      "source": [
        "Libero RAM."
      ],
      "id": "0f7YvnkKODK7"
    },
    {
      "cell_type": "code",
      "metadata": {
        "id": "chOkq01ANp6l"
      },
      "source": [
        "del rddNewUser"
      ],
      "id": "chOkq01ANp6l",
      "execution_count": null,
      "outputs": []
    },
    {
      "cell_type": "code",
      "metadata": {
        "colab": {
          "base_uri": "https://localhost:8080/"
        },
        "id": "rQKDhZXR1UQ3",
        "outputId": "123e00a4-6c5b-4386-ea0e-9a3389e23bd1"
      },
      "source": [
        "rddUser.take(2)"
      ],
      "id": "rQKDhZXR1UQ3",
      "execution_count": null,
      "outputs": [
        {
          "output_type": "execute_result",
          "data": {
            "text/plain": [
              "[('Yliana', Timestamp('2005-09-07 22:33:56+0000', tz='UTC')),\n",
              " ('BrokenSegue', Timestamp('2005-09-07 22:50:58+0000', tz='UTC'))]"
            ]
          },
          "metadata": {},
          "execution_count": 20
        }
      ]
    },
    {
      "cell_type": "markdown",
      "metadata": {
        "id": "f02JaUkROF6j"
      },
      "source": [
        "Me quedo con la primer fecha de registro del usuario."
      ],
      "id": "f02JaUkROF6j"
    },
    {
      "cell_type": "code",
      "metadata": {
        "id": "bOoSK1XTS7Yo"
      },
      "source": [
        "rddUser = rddUser.reduceByKey(lambda a,b: a if a < b else b)"
      ],
      "id": "bOoSK1XTS7Yo",
      "execution_count": null,
      "outputs": []
    },
    {
      "cell_type": "code",
      "metadata": {
        "colab": {
          "base_uri": "https://localhost:8080/"
        },
        "id": "OtRBxHYd1kmB",
        "outputId": "7d1e8712-9b87-4b60-8f26-1451d1180f91"
      },
      "source": [
        "rddUser.take(2)"
      ],
      "id": "OtRBxHYd1kmB",
      "execution_count": null,
      "outputs": [
        {
          "output_type": "execute_result",
          "data": {
            "text/plain": [
              "[('Luis forero', Timestamp('2005-09-15 15:56:52+0000', tz='UTC')),\n",
              " ('Jcaraya~eswiki', Timestamp('2005-09-17 17:13:59+0000', tz='UTC'))]"
            ]
          },
          "metadata": {},
          "execution_count": 22
        }
      ]
    },
    {
      "cell_type": "markdown",
      "metadata": {
        "id": "5sL5KHPLOJlT"
      },
      "source": [
        "Realizo un join para tener (username, (fecha de alta, fecha de bloqueo))."
      ],
      "id": "5sL5KHPLOJlT"
    },
    {
      "cell_type": "code",
      "metadata": {
        "id": "c7mQlBeu4yYb"
      },
      "source": [
        "rddJoin = rddUser.join(rddBlock)"
      ],
      "id": "c7mQlBeu4yYb",
      "execution_count": null,
      "outputs": []
    },
    {
      "cell_type": "code",
      "metadata": {
        "colab": {
          "base_uri": "https://localhost:8080/"
        },
        "id": "9LAsG-iiXri7",
        "outputId": "9c0aaaed-c911-4779-8a3c-408dc000dc27"
      },
      "source": [
        "rddJoin.take(2)"
      ],
      "id": "9LAsG-iiXri7",
      "execution_count": null,
      "outputs": [
        {
          "output_type": "execute_result",
          "data": {
            "text/plain": [
              "[('Kakabron',\n",
              "  (Timestamp('2010-06-11 21:27:19+0000', tz='UTC'),\n",
              "   Timestamp('2020-10-03 06:00:37+0000', tz='UTC'))),\n",
              " ('Proyectoewa',\n",
              "  (Timestamp('2009-12-13 20:18:23+0000', tz='UTC'),\n",
              "   Timestamp('2009-12-13 20:34:07+0000', tz='UTC')))]"
            ]
          },
          "metadata": {},
          "execution_count": 24
        }
      ]
    },
    {
      "cell_type": "markdown",
      "metadata": {
        "id": "BFlEFyZkOQwD"
      },
      "source": [
        "Importo numpy para utilizar operaciones con el timedelta."
      ],
      "id": "BFlEFyZkOQwD"
    },
    {
      "cell_type": "code",
      "metadata": {
        "id": "1JedR_SbQ1C_"
      },
      "source": [
        "import numpy as np"
      ],
      "id": "1JedR_SbQ1C_",
      "execution_count": null,
      "outputs": []
    },
    {
      "cell_type": "markdown",
      "metadata": {
        "id": "uTpTMO0hOXF0"
      },
      "source": [
        "Calculo las duraciones de los usuarios haciendo fecha de bloqueo - fecha de alta en el sitio. Filtro con >0 a cero, dado que hay bugs en los datos. *Realice esta consulta dado que me daban resultados extraños, ya que habia numeros muy chicos y a su vez muy grandes, y en teoria todos deberian ser mayores a cero, dado que al trabajar con usuarios registrados, antes de ser bloqueados tendrian que ser registrados.*"
      ],
      "id": "uTpTMO0hOXF0"
    },
    {
      "cell_type": "code",
      "metadata": {
        "id": "me691adPLr1M"
      },
      "source": [
        "rddDelta = rddJoin.map(lambda x:(x[1][1]-x[1][0])).filter(lambda x: x>np.timedelta64(0))"
      ],
      "id": "me691adPLr1M",
      "execution_count": null,
      "outputs": []
    },
    {
      "cell_type": "markdown",
      "metadata": {
        "id": "4zm0A8jGOgdr"
      },
      "source": [
        "Libero RAM."
      ],
      "id": "4zm0A8jGOgdr"
    },
    {
      "cell_type": "code",
      "metadata": {
        "id": "RhphwuLGQbHh"
      },
      "source": [
        "del rddJoin"
      ],
      "id": "RhphwuLGQbHh",
      "execution_count": null,
      "outputs": []
    },
    {
      "cell_type": "markdown",
      "metadata": {
        "id": "1r31nAOdOjeT"
      },
      "source": [
        "**Resultado**"
      ],
      "id": "1r31nAOdOjeT"
    },
    {
      "cell_type": "code",
      "metadata": {
        "colab": {
          "base_uri": "https://localhost:8080/"
        },
        "id": "jCqkquxVU2Ce",
        "outputId": "49f3fc9b-bace-442f-b01c-ab83bb9b9ed4"
      },
      "source": [
        "rddDelta.min()"
      ],
      "id": "jCqkquxVU2Ce",
      "execution_count": null,
      "outputs": [
        {
          "output_type": "execute_result",
          "data": {
            "text/plain": [
              "Timedelta('0 days 00:00:04')"
            ]
          },
          "metadata": {},
          "execution_count": 33
        }
      ]
    }
  ]
}