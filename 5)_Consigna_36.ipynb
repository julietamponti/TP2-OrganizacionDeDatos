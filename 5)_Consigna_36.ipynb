{
  "nbformat": 4,
  "nbformat_minor": 0,
  "metadata": {
    "colab": {
      "name": "5) Consigna 36",
      "provenance": [],
      "collapsed_sections": [],
      "authorship_tag": "ABX9TyPO4d1IfkIY/6CKPZ0574b3",
      "include_colab_link": true
    },
    "kernelspec": {
      "name": "python3",
      "display_name": "Python 3"
    },
    "language_info": {
      "name": "python"
    }
  },
  "cells": [
    {
      "cell_type": "markdown",
      "metadata": {
        "id": "view-in-github",
        "colab_type": "text"
      },
      "source": [
        "<a href=\"https://colab.research.google.com/github/julietamponti/tp2Datos-2C2021-/blob/main/5)_Consigna_36.ipynb\" target=\"_parent\"><img src=\"https://colab.research.google.com/assets/colab-badge.svg\" alt=\"Open In Colab\"/></a>"
      ]
    },
    {
      "cell_type": "markdown",
      "metadata": {
        "id": "BLrBPsEGYAOa"
      },
      "source": [
        "## ***La 3-upla de palabras más común en los comentarios de los logs (2)***"
      ]
    },
    {
      "cell_type": "markdown",
      "metadata": {
        "id": "vTse4jM1Sa09"
      },
      "source": [
        "Realizo la installacion de las librerias que utilizare."
      ]
    },
    {
      "cell_type": "code",
      "metadata": {
        "colab": {
          "base_uri": "https://localhost:8080/"
        },
        "id": "2xWvwRR2WtKj",
        "outputId": "ea715445-416e-4d01-9abf-7329de746d57"
      },
      "source": [
        "!pip install pyspark\n",
        "!pip install -U -q PyDrive\n",
        "!apt update\n",
        "!apt install openjdk-8-jdk-headless -qq\n",
        "!pip install --upgrade pandas\n",
        "#!apt install default-jre\n",
        "#!apt install default-jdk\n",
        "import os\n",
        "os.environ[\"JAVA_HOME\"] = \"/usr/lib/jvm/java-8-openjdk-amd64/\""
      ],
      "execution_count": null,
      "outputs": [
        {
          "output_type": "stream",
          "name": "stdout",
          "text": [
            "Requirement already satisfied: pyspark in /usr/local/lib/python3.7/dist-packages (3.2.0)\n",
            "Requirement already satisfied: py4j==0.10.9.2 in /usr/local/lib/python3.7/dist-packages (from pyspark) (0.10.9.2)\n",
            "Hit:1 https://cloud.r-project.org/bin/linux/ubuntu bionic-cran40/ InRelease\n",
            "Ign:2 https://developer.download.nvidia.com/compute/cuda/repos/ubuntu1804/x86_64  InRelease\n",
            "Hit:3 http://security.ubuntu.com/ubuntu bionic-security InRelease\n",
            "Ign:4 https://developer.download.nvidia.com/compute/machine-learning/repos/ubuntu1804/x86_64  InRelease\n",
            "Hit:5 https://developer.download.nvidia.com/compute/cuda/repos/ubuntu1804/x86_64  Release\n",
            "Hit:6 http://ppa.launchpad.net/c2d4u.team/c2d4u4.0+/ubuntu bionic InRelease\n",
            "Hit:7 http://archive.ubuntu.com/ubuntu bionic InRelease\n",
            "Hit:8 https://developer.download.nvidia.com/compute/machine-learning/repos/ubuntu1804/x86_64  Release\n",
            "Hit:9 http://archive.ubuntu.com/ubuntu bionic-updates InRelease\n",
            "Hit:10 http://ppa.launchpad.net/cran/libgit2/ubuntu bionic InRelease\n",
            "Hit:11 http://archive.ubuntu.com/ubuntu bionic-backports InRelease\n",
            "Hit:13 http://ppa.launchpad.net/deadsnakes/ppa/ubuntu bionic InRelease\n",
            "Hit:14 http://ppa.launchpad.net/graphics-drivers/ppa/ubuntu bionic InRelease\n",
            "Reading package lists... Done\n",
            "Building dependency tree       \n",
            "Reading state information... Done\n",
            "39 packages can be upgraded. Run 'apt list --upgradable' to see them.\n",
            "openjdk-8-jdk-headless is already the newest version (8u292-b10-0ubuntu1~18.04).\n",
            "The following package was automatically installed and is no longer required:\n",
            "  libnvidia-common-460\n",
            "Use 'apt autoremove' to remove it.\n",
            "0 upgraded, 0 newly installed, 0 to remove and 39 not upgraded.\n",
            "Requirement already satisfied: pandas in /usr/local/lib/python3.7/dist-packages (1.3.4)\n",
            "Requirement already satisfied: python-dateutil>=2.7.3 in /usr/local/lib/python3.7/dist-packages (from pandas) (2.8.2)\n",
            "Requirement already satisfied: pytz>=2017.3 in /usr/local/lib/python3.7/dist-packages (from pandas) (2018.9)\n",
            "Requirement already satisfied: numpy>=1.17.3 in /usr/local/lib/python3.7/dist-packages (from pandas) (1.19.5)\n",
            "Requirement already satisfied: six>=1.5 in /usr/local/lib/python3.7/dist-packages (from python-dateutil>=2.7.3->pandas) (1.15.0)\n"
          ]
        }
      ]
    },
    {
      "cell_type": "code",
      "metadata": {
        "colab": {
          "base_uri": "https://localhost:8080/"
        },
        "id": "SS6SCZiIWxJn",
        "outputId": "b017a939-3502-43f5-bf19-df94d76a0433"
      },
      "source": [
        "!pip install nltk==3.4"
      ],
      "execution_count": null,
      "outputs": [
        {
          "output_type": "stream",
          "name": "stdout",
          "text": [
            "Requirement already satisfied: nltk==3.4 in /usr/local/lib/python3.7/dist-packages (3.4)\n",
            "Requirement already satisfied: six in /usr/local/lib/python3.7/dist-packages (from nltk==3.4) (1.15.0)\n",
            "Requirement already satisfied: singledispatch in /usr/local/lib/python3.7/dist-packages (from nltk==3.4) (3.7.0)\n"
          ]
        }
      ]
    },
    {
      "cell_type": "code",
      "metadata": {
        "colab": {
          "base_uri": "https://localhost:8080/"
        },
        "id": "CqCdTQHUW52S",
        "outputId": "ad02a923-68ea-4bbe-d1fd-57aac279c29f"
      },
      "source": [
        "!pip install pyarrow"
      ],
      "execution_count": null,
      "outputs": [
        {
          "output_type": "stream",
          "name": "stdout",
          "text": [
            "Requirement already satisfied: pyarrow in /usr/local/lib/python3.7/dist-packages (3.0.0)\n",
            "Requirement already satisfied: numpy>=1.16.6 in /usr/local/lib/python3.7/dist-packages (from pyarrow) (1.19.5)\n"
          ]
        }
      ]
    },
    {
      "cell_type": "markdown",
      "metadata": {
        "id": "Oisi3StQSfrH"
      },
      "source": [
        "Importo librerias."
      ]
    },
    {
      "cell_type": "code",
      "metadata": {
        "id": "y1rWZNs0WyfG"
      },
      "source": [
        "from pydrive.auth import GoogleAuth\n",
        "from pydrive.drive import GoogleDrive\n",
        "from google.colab import auth\n",
        "from oauth2client.client import GoogleCredentials\n",
        "from pyspark.sql import *\n",
        "from pyspark.sql.functions import *\n",
        "from pyspark import SparkContext\n",
        "from pyspark.sql import SQLContext\n",
        "import pandas as pd \n",
        "from nltk.tokenize import word_tokenize\n",
        "from nltk.util import ngrams\n",
        "import nltk"
      ],
      "execution_count": null,
      "outputs": []
    },
    {
      "cell_type": "code",
      "metadata": {
        "colab": {
          "base_uri": "https://localhost:8080/"
        },
        "id": "u31HO4jeWzqv",
        "outputId": "02394678-e87a-403f-ce70-2a6cbafd2f0f"
      },
      "source": [
        "nltk.download('punkt')"
      ],
      "execution_count": null,
      "outputs": [
        {
          "output_type": "stream",
          "name": "stderr",
          "text": [
            "[nltk_data] Downloading package punkt to /root/nltk_data...\n",
            "[nltk_data]   Package punkt is already up-to-date!\n"
          ]
        },
        {
          "output_type": "execute_result",
          "data": {
            "text/plain": [
              "True"
            ]
          },
          "metadata": {},
          "execution_count": 5
        }
      ]
    },
    {
      "cell_type": "code",
      "metadata": {
        "id": "kc8hS7qeW7Oj"
      },
      "source": [
        "import pyarrow"
      ],
      "execution_count": null,
      "outputs": []
    },
    {
      "cell_type": "markdown",
      "metadata": {
        "id": "Hap47pfaS-RO"
      },
      "source": [
        "Creo el sparkSession"
      ]
    },
    {
      "cell_type": "code",
      "metadata": {
        "id": "C5ePymS2W06q"
      },
      "source": [
        "spark = SparkSession.builder.getOrCreate()\n",
        "sc = spark.sparkContext"
      ],
      "execution_count": null,
      "outputs": []
    },
    {
      "cell_type": "markdown",
      "metadata": {
        "id": "ekBu_WW4TAxl"
      },
      "source": [
        "Accedo al google drive, para acceder al archivo."
      ]
    },
    {
      "cell_type": "code",
      "metadata": {
        "colab": {
          "base_uri": "https://localhost:8080/"
        },
        "id": "yTKnqvHDW2F2",
        "outputId": "4e3768ac-2c6e-457f-905f-2b2c9fb9a58d"
      },
      "source": [
        "from google.colab import drive \n",
        "drive.mount('/content/gdrive')\n",
        "sqlContext = SQLContext(sc)"
      ],
      "execution_count": null,
      "outputs": [
        {
          "output_type": "stream",
          "name": "stdout",
          "text": [
            "Drive already mounted at /content/gdrive; to attempt to forcibly remount, call drive.mount(\"/content/gdrive\", force_remount=True).\n"
          ]
        },
        {
          "output_type": "stream",
          "name": "stderr",
          "text": [
            "/usr/local/lib/python3.7/dist-packages/pyspark/sql/context.py:79: FutureWarning: Deprecated in 3.0.0. Use SparkSession.builder.getOrCreate() instead.\n",
            "  FutureWarning\n"
          ]
        }
      ]
    },
    {
      "cell_type": "markdown",
      "metadata": {
        "id": "HzZMB93TTNFX"
      },
      "source": [
        "Leo el archivo."
      ]
    },
    {
      "cell_type": "code",
      "metadata": {
        "id": "4EFLNqz_W8Vr"
      },
      "source": [
        "logs = sqlContext.read.parquet('gdrive/My Drive/TP2 - Datos/logs.parquet')"
      ],
      "execution_count": null,
      "outputs": []
    },
    {
      "cell_type": "code",
      "metadata": {
        "id": "oSuEqGWxXASD"
      },
      "source": [
        "rddLogs = logs.rdd"
      ],
      "execution_count": null,
      "outputs": []
    },
    {
      "cell_type": "code",
      "metadata": {
        "colab": {
          "base_uri": "https://localhost:8080/"
        },
        "id": "2G_PtXpeXDfz",
        "outputId": "a89005ca-3c14-4330-b308-cfea1a30c19b"
      },
      "source": [
        "rddLogs.take(2)"
      ],
      "execution_count": null,
      "outputs": [
        {
          "output_type": "execute_result",
          "data": {
            "text/plain": [
              "[Row(item_id=1, timestamp='2004-12-23T07:10:09Z', contributor_username='Sabbut', contributor_id=2075.0, contributor_ip=None, comment=\"el contenido era: 'Si aprendés Pensamiento Científico ... TE VA S AENTERAR'\", logtype='delete', action='delete', title='Verificacionismo'),\n",
              " Row(item_id=2, timestamp='2004-12-23T07:14:09Z', contributor_username='Sabbut', contributor_id=2075.0, contributor_ip=None, comment=\"el contenido era: '{{destruir}}en algun lugar lejano pero tan cerca como el largo del cuello de una jirafa se encontraba una torre'\", logtype='delete', action='delete', title='Rapunzel')]"
            ]
          },
          "metadata": {},
          "execution_count": 11
        }
      ]
    },
    {
      "cell_type": "markdown",
      "metadata": {
        "id": "Pz_nFMNeTUqk"
      },
      "source": [
        "Creo la funcion de obtener ngramas."
      ]
    },
    {
      "cell_type": "code",
      "metadata": {
        "id": "14mDx3HDTsju"
      },
      "source": [
        "symbols = ['!',',','\"','#','$','%','&','\\',''','(',')','()','*','+','-','.','/',':',';','<','=','>','?','@','[','\\,',']','^','_','`','``','','{','|','}','{}','[]','~','pipe', \"''\", \"'\", '||', '==','--']"
      ],
      "execution_count": null,
      "outputs": []
    },
    {
      "cell_type": "code",
      "metadata": {
        "id": "TInnF7PJXGM3"
      },
      "source": [
        "def obtener_ngrams(texto, n):\n",
        "    text = texto.lower()\n",
        "    text = word_tokenize(text)\n",
        "    list_text = []\n",
        "\n",
        "    for w in text:\n",
        "        if w not in symbols:    #quito los simbolos sueltos\n",
        "            list_text.append(w) \n",
        "    \n",
        "    n_grams = ngrams(list_text, n)\n",
        "    return n_grams"
      ],
      "execution_count": null,
      "outputs": []
    },
    {
      "cell_type": "markdown",
      "metadata": {
        "id": "jm4m8vzvUSJ0"
      },
      "source": [
        "Utilizare un 1% de los comments del logs, por cuestiones de memoria."
      ]
    },
    {
      "cell_type": "code",
      "metadata": {
        "id": "7XfwXH93UXGs"
      },
      "source": [
        "rddComment = rddLogs.sample(False,0.01)"
      ],
      "execution_count": null,
      "outputs": []
    },
    {
      "cell_type": "markdown",
      "metadata": {
        "id": "8VpZQUKJUNy9"
      },
      "source": [
        "Limpio el rdd que voy a utilizar."
      ]
    },
    {
      "cell_type": "code",
      "metadata": {
        "id": "ASvr49NWUNbC"
      },
      "source": [
        "rddComment = rddComment.filter(lambda x: x.comment != None)"
      ],
      "execution_count": null,
      "outputs": []
    },
    {
      "cell_type": "markdown",
      "metadata": {
        "id": "PW9Ho12gUh7r"
      },
      "source": [
        "Aplico un flatMap para aplicar la funcion de los ngramas sobre los comentarios."
      ]
    },
    {
      "cell_type": "code",
      "metadata": {
        "id": "HntMZ5CQXJ2X"
      },
      "source": [
        "rddComment = rddComment.flatMap(lambda x: [y for y in obtener_ngrams(x.comment,3)]) #obtener_ngrams recibe el texto y el n para los n-grams"
      ],
      "execution_count": null,
      "outputs": []
    },
    {
      "cell_type": "code",
      "metadata": {
        "colab": {
          "base_uri": "https://localhost:8080/"
        },
        "id": "5xnGlDXLXZkw",
        "outputId": "36e11145-5006-4289-813e-8ad030315598"
      },
      "source": [
        "rddComment.take(2)"
      ],
      "execution_count": null,
      "outputs": [
        {
          "output_type": "execute_result",
          "data": {
            "text/plain": [
              "[('el', 'contenido', 'era'), ('contenido', 'era', \"'si\")]"
            ]
          },
          "metadata": {},
          "execution_count": 17
        }
      ]
    },
    {
      "cell_type": "markdown",
      "metadata": {
        "id": "SlewnEXYUtIM"
      },
      "source": [
        "Realizo un map para tener la estructura --> ((ngrama),1) y luego un reduceByKey para obtener la frecuencia de ese ngrama."
      ]
    },
    {
      "cell_type": "markdown",
      "metadata": {
        "id": "TU4artDiV9AP"
      },
      "source": [
        " ***Resultado***"
      ]
    },
    {
      "cell_type": "code",
      "metadata": {
        "colab": {
          "base_uri": "https://localhost:8080/"
        },
        "id": "o4oswpvEXa-H",
        "outputId": "4a8373e6-3e50-400f-b53c-2cd0e5678a20"
      },
      "source": [
        "rddComment.map(lambda x: (x,1)).reduceByKey(lambda x,y:x+y).takeOrdered(1,lambda x: -x[1])"
      ],
      "execution_count": null,
      "outputs": [
        {
          "output_type": "execute_result",
          "data": {
            "text/plain": [
              "[(('el', 'contenido', 'era'), 11398)]"
            ]
          },
          "metadata": {},
          "execution_count": 18
        }
      ]
    }
  ]
}