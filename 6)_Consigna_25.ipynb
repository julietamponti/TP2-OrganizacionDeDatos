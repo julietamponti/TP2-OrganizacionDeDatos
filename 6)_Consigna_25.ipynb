{
  "nbformat": 4,
  "nbformat_minor": 0,
  "metadata": {
    "colab": {
      "name": "6) Consigna 25",
      "provenance": [],
      "collapsed_sections": [],
      "authorship_tag": "ABX9TyMhw2gyDPZp3DBt57xU213v",
      "include_colab_link": true
    },
    "kernelspec": {
      "name": "python3",
      "display_name": "Python 3"
    },
    "language_info": {
      "name": "python"
    }
  },
  "cells": [
    {
      "cell_type": "markdown",
      "metadata": {
        "id": "view-in-github",
        "colab_type": "text"
      },
      "source": [
        "<a href=\"https://colab.research.google.com/github/julietamponti/tp2Datos-2C2021-/blob/main/6)_Consigna_25.ipynb\" target=\"_parent\"><img src=\"https://colab.research.google.com/assets/colab-badge.svg\" alt=\"Open In Colab\"/></a>"
      ]
    },
    {
      "cell_type": "markdown",
      "metadata": {
        "id": "BIbImfwd0_Zt"
      },
      "source": [
        "## ***Obtenga con spark los datos (de forma ya agregada) que le permitan realizar la siguiente visualización y realice la misma (3)***"
      ]
    },
    {
      "cell_type": "markdown",
      "metadata": {
        "id": "0o1I-59MXT0P"
      },
      "source": [
        "Realizo la installacion de las librerias que utilizare en el desarrollo de la consulta."
      ]
    },
    {
      "cell_type": "code",
      "metadata": {
        "id": "Kk96_tvU0ysr",
        "colab": {
          "base_uri": "https://localhost:8080/",
          "height": 1000
        },
        "outputId": "4892b1fd-cadc-4ee2-e39d-4e694bdd2cda"
      },
      "source": [
        "!pip install pyspark\n",
        "!pip install -U -q PyDrive\n",
        "!apt update\n",
        "!apt install openjdk-8-jdk-headless -qq\n",
        "!pip install --upgrade pandas\n",
        "#!apt install default-jre\n",
        "#!apt install default-jdk\n",
        "import os\n",
        "os.environ[\"JAVA_HOME\"] = \"/usr/lib/jvm/java-8-openjdk-amd64/\""
      ],
      "execution_count": null,
      "outputs": [
        {
          "output_type": "stream",
          "name": "stdout",
          "text": [
            "Collecting pyspark\n",
            "  Downloading pyspark-3.2.0.tar.gz (281.3 MB)\n",
            "\u001b[K     |████████████████████████████████| 281.3 MB 29 kB/s \n",
            "\u001b[?25hCollecting py4j==0.10.9.2\n",
            "  Downloading py4j-0.10.9.2-py2.py3-none-any.whl (198 kB)\n",
            "\u001b[K     |████████████████████████████████| 198 kB 57.2 MB/s \n",
            "\u001b[?25hBuilding wheels for collected packages: pyspark\n",
            "  Building wheel for pyspark (setup.py) ... \u001b[?25l\u001b[?25hdone\n",
            "  Created wheel for pyspark: filename=pyspark-3.2.0-py2.py3-none-any.whl size=281805912 sha256=52cd570f6d337683542be790ec0266b26bc0dc5bbe1953db59b55fc2d0136f15\n",
            "  Stored in directory: /root/.cache/pip/wheels/0b/de/d2/9be5d59d7331c6c2a7c1b6d1a4f463ce107332b1ecd4e80718\n",
            "Successfully built pyspark\n",
            "Installing collected packages: py4j, pyspark\n",
            "Successfully installed py4j-0.10.9.2 pyspark-3.2.0\n",
            "Get:1 http://security.ubuntu.com/ubuntu bionic-security InRelease [88.7 kB]\n",
            "Ign:2 https://developer.download.nvidia.com/compute/cuda/repos/ubuntu1804/x86_64  InRelease\n",
            "Get:3 https://cloud.r-project.org/bin/linux/ubuntu bionic-cran40/ InRelease [3,626 B]\n",
            "Hit:4 http://ppa.launchpad.net/c2d4u.team/c2d4u4.0+/ubuntu bionic InRelease\n",
            "Hit:5 http://archive.ubuntu.com/ubuntu bionic InRelease\n",
            "Ign:6 https://developer.download.nvidia.com/compute/machine-learning/repos/ubuntu1804/x86_64  InRelease\n",
            "Get:7 https://developer.download.nvidia.com/compute/cuda/repos/ubuntu1804/x86_64  Release [696 B]\n",
            "Hit:8 https://developer.download.nvidia.com/compute/machine-learning/repos/ubuntu1804/x86_64  Release\n",
            "Get:9 https://developer.download.nvidia.com/compute/cuda/repos/ubuntu1804/x86_64  Release.gpg [836 B]\n",
            "Get:10 http://archive.ubuntu.com/ubuntu bionic-updates InRelease [88.7 kB]\n",
            "Hit:11 http://ppa.launchpad.net/cran/libgit2/ubuntu bionic InRelease\n",
            "Hit:12 http://ppa.launchpad.net/deadsnakes/ppa/ubuntu bionic InRelease\n",
            "Get:13 http://archive.ubuntu.com/ubuntu bionic-backports InRelease [74.6 kB]\n",
            "Hit:14 http://ppa.launchpad.net/graphics-drivers/ppa/ubuntu bionic InRelease\n",
            "Get:15 http://security.ubuntu.com/ubuntu bionic-security/universe amd64 Packages [1,434 kB]\n",
            "Get:16 http://security.ubuntu.com/ubuntu bionic-security/main amd64 Packages [2,398 kB]\n",
            "Get:18 https://developer.download.nvidia.com/compute/cuda/repos/ubuntu1804/x86_64  Packages [786 kB]\n",
            "Get:19 http://archive.ubuntu.com/ubuntu bionic-updates/universe amd64 Packages [2,213 kB]\n",
            "Get:20 http://archive.ubuntu.com/ubuntu bionic-updates/main amd64 Packages [2,835 kB]\n",
            "Fetched 9,924 kB in 3s (2,930 kB/s)\n",
            "Reading package lists... Done\n",
            "Building dependency tree       \n",
            "Reading state information... Done\n",
            "39 packages can be upgraded. Run 'apt list --upgradable' to see them.\n",
            "The following package was automatically installed and is no longer required:\n",
            "  libnvidia-common-460\n",
            "Use 'apt autoremove' to remove it.\n",
            "The following additional packages will be installed:\n",
            "  openjdk-8-jre-headless\n",
            "Suggested packages:\n",
            "  openjdk-8-demo openjdk-8-source libnss-mdns fonts-dejavu-extra\n",
            "  fonts-ipafont-gothic fonts-ipafont-mincho fonts-wqy-microhei\n",
            "  fonts-wqy-zenhei fonts-indic\n",
            "The following NEW packages will be installed:\n",
            "  openjdk-8-jdk-headless openjdk-8-jre-headless\n",
            "0 upgraded, 2 newly installed, 0 to remove and 39 not upgraded.\n",
            "Need to get 36.5 MB of archives.\n",
            "After this operation, 143 MB of additional disk space will be used.\n",
            "Selecting previously unselected package openjdk-8-jre-headless:amd64.\n",
            "(Reading database ... 155062 files and directories currently installed.)\n",
            "Preparing to unpack .../openjdk-8-jre-headless_8u292-b10-0ubuntu1~18.04_amd64.deb ...\n",
            "Unpacking openjdk-8-jre-headless:amd64 (8u292-b10-0ubuntu1~18.04) ...\n",
            "Selecting previously unselected package openjdk-8-jdk-headless:amd64.\n",
            "Preparing to unpack .../openjdk-8-jdk-headless_8u292-b10-0ubuntu1~18.04_amd64.deb ...\n",
            "Unpacking openjdk-8-jdk-headless:amd64 (8u292-b10-0ubuntu1~18.04) ...\n",
            "Setting up openjdk-8-jre-headless:amd64 (8u292-b10-0ubuntu1~18.04) ...\n",
            "update-alternatives: using /usr/lib/jvm/java-8-openjdk-amd64/jre/bin/orbd to provide /usr/bin/orbd (orbd) in auto mode\n",
            "update-alternatives: using /usr/lib/jvm/java-8-openjdk-amd64/jre/bin/servertool to provide /usr/bin/servertool (servertool) in auto mode\n",
            "update-alternatives: using /usr/lib/jvm/java-8-openjdk-amd64/jre/bin/tnameserv to provide /usr/bin/tnameserv (tnameserv) in auto mode\n",
            "Setting up openjdk-8-jdk-headless:amd64 (8u292-b10-0ubuntu1~18.04) ...\n",
            "update-alternatives: using /usr/lib/jvm/java-8-openjdk-amd64/bin/idlj to provide /usr/bin/idlj (idlj) in auto mode\n",
            "update-alternatives: using /usr/lib/jvm/java-8-openjdk-amd64/bin/wsimport to provide /usr/bin/wsimport (wsimport) in auto mode\n",
            "update-alternatives: using /usr/lib/jvm/java-8-openjdk-amd64/bin/jsadebugd to provide /usr/bin/jsadebugd (jsadebugd) in auto mode\n",
            "update-alternatives: using /usr/lib/jvm/java-8-openjdk-amd64/bin/native2ascii to provide /usr/bin/native2ascii (native2ascii) in auto mode\n",
            "update-alternatives: using /usr/lib/jvm/java-8-openjdk-amd64/bin/javah to provide /usr/bin/javah (javah) in auto mode\n",
            "update-alternatives: using /usr/lib/jvm/java-8-openjdk-amd64/bin/hsdb to provide /usr/bin/hsdb (hsdb) in auto mode\n",
            "update-alternatives: using /usr/lib/jvm/java-8-openjdk-amd64/bin/clhsdb to provide /usr/bin/clhsdb (clhsdb) in auto mode\n",
            "update-alternatives: using /usr/lib/jvm/java-8-openjdk-amd64/bin/extcheck to provide /usr/bin/extcheck (extcheck) in auto mode\n",
            "update-alternatives: using /usr/lib/jvm/java-8-openjdk-amd64/bin/schemagen to provide /usr/bin/schemagen (schemagen) in auto mode\n",
            "update-alternatives: using /usr/lib/jvm/java-8-openjdk-amd64/bin/xjc to provide /usr/bin/xjc (xjc) in auto mode\n",
            "update-alternatives: using /usr/lib/jvm/java-8-openjdk-amd64/bin/jhat to provide /usr/bin/jhat (jhat) in auto mode\n",
            "update-alternatives: using /usr/lib/jvm/java-8-openjdk-amd64/bin/wsgen to provide /usr/bin/wsgen (wsgen) in auto mode\n",
            "Requirement already satisfied: pandas in /usr/local/lib/python3.7/dist-packages (1.1.5)\n",
            "Collecting pandas\n",
            "  Downloading pandas-1.3.4-cp37-cp37m-manylinux_2_17_x86_64.manylinux2014_x86_64.whl (11.3 MB)\n",
            "\u001b[K     |████████████████████████████████| 11.3 MB 95 kB/s \n",
            "\u001b[?25hRequirement already satisfied: pytz>=2017.3 in /usr/local/lib/python3.7/dist-packages (from pandas) (2018.9)\n",
            "Requirement already satisfied: numpy>=1.17.3 in /usr/local/lib/python3.7/dist-packages (from pandas) (1.19.5)\n",
            "Requirement already satisfied: python-dateutil>=2.7.3 in /usr/local/lib/python3.7/dist-packages (from pandas) (2.8.2)\n",
            "Requirement already satisfied: six>=1.5 in /usr/local/lib/python3.7/dist-packages (from python-dateutil>=2.7.3->pandas) (1.15.0)\n",
            "Installing collected packages: pandas\n",
            "  Attempting uninstall: pandas\n",
            "    Found existing installation: pandas 1.1.5\n",
            "    Uninstalling pandas-1.1.5:\n",
            "      Successfully uninstalled pandas-1.1.5\n",
            "\u001b[31mERROR: pip's dependency resolver does not currently take into account all the packages that are installed. This behaviour is the source of the following dependency conflicts.\n",
            "google-colab 1.0.0 requires pandas~=1.1.0; python_version >= \"3.0\", but you have pandas 1.3.4 which is incompatible.\u001b[0m\n",
            "Successfully installed pandas-1.3.4\n"
          ]
        },
        {
          "output_type": "display_data",
          "data": {
            "application/vnd.colab-display-data+json": {
              "pip_warning": {
                "packages": [
                  "pandas"
                ]
              }
            }
          },
          "metadata": {}
        }
      ]
    },
    {
      "cell_type": "code",
      "metadata": {
        "colab": {
          "base_uri": "https://localhost:8080/"
        },
        "id": "SVUD4x4yA2fy",
        "outputId": "f1ff0219-2dc8-4b3e-cb07-661be2495c4b"
      },
      "source": [
        "!pip install pyarrow"
      ],
      "execution_count": null,
      "outputs": [
        {
          "output_type": "stream",
          "name": "stdout",
          "text": [
            "Requirement already satisfied: pyarrow in /usr/local/lib/python3.7/dist-packages (3.0.0)\n",
            "Requirement already satisfied: numpy>=1.16.6 in /usr/local/lib/python3.7/dist-packages (from pyarrow) (1.19.5)\n"
          ]
        }
      ]
    },
    {
      "cell_type": "markdown",
      "metadata": {
        "id": "o0Get38uXfml"
      },
      "source": [
        "Importo las librerias."
      ]
    },
    {
      "cell_type": "code",
      "metadata": {
        "id": "J_8K-FRyAVqu"
      },
      "source": [
        "from pydrive.auth import GoogleAuth\n",
        "from pydrive.drive import GoogleDrive\n",
        "from google.colab import auth\n",
        "from oauth2client.client import GoogleCredentials\n",
        "from pyspark.sql import *\n",
        "from pyspark.sql.functions import *\n",
        "from pyspark import SparkContext\n",
        "from pyspark.sql import SQLContext\n",
        "import pandas as pd "
      ],
      "execution_count": null,
      "outputs": []
    },
    {
      "cell_type": "code",
      "metadata": {
        "id": "9NZj_QQeBVsj"
      },
      "source": [
        "import pyarrow"
      ],
      "execution_count": null,
      "outputs": []
    },
    {
      "cell_type": "markdown",
      "metadata": {
        "id": "2GqNtZnaXjv0"
      },
      "source": [
        "Creo el sparkSession."
      ]
    },
    {
      "cell_type": "code",
      "metadata": {
        "id": "UN6AJgjRAYhh"
      },
      "source": [
        "spark = SparkSession.builder.getOrCreate()\n",
        "sc = spark.sparkContext"
      ],
      "execution_count": null,
      "outputs": []
    },
    {
      "cell_type": "markdown",
      "metadata": {
        "id": "Jo4-6_2FXmWm"
      },
      "source": [
        "Accedo a mi drive, para poder acceder al archivo."
      ]
    },
    {
      "cell_type": "code",
      "metadata": {
        "colab": {
          "base_uri": "https://localhost:8080/"
        },
        "id": "szsewiWVA0vp",
        "outputId": "1ed4c4d8-5009-46b1-d8ba-df19bb5977d8"
      },
      "source": [
        "from google.colab import drive \n",
        "drive.mount('/content/gdrive')\n",
        "sqlContext = SQLContext(sc)"
      ],
      "execution_count": null,
      "outputs": [
        {
          "output_type": "stream",
          "name": "stdout",
          "text": [
            "Mounted at /content/gdrive\n"
          ]
        },
        {
          "output_type": "stream",
          "name": "stderr",
          "text": [
            "/usr/local/lib/python3.7/dist-packages/pyspark/sql/context.py:79: FutureWarning: Deprecated in 3.0.0. Use SparkSession.builder.getOrCreate() instead.\n",
            "  FutureWarning\n"
          ]
        }
      ]
    },
    {
      "cell_type": "markdown",
      "metadata": {
        "id": "7Xs-E7hQXpU_"
      },
      "source": [
        "Leo el archivo."
      ]
    },
    {
      "cell_type": "code",
      "metadata": {
        "id": "ld1TWjKwBaKw"
      },
      "source": [
        "logs = sqlContext.read.parquet('gdrive/My Drive/TP2 - Datos/logs.parquet')"
      ],
      "execution_count": null,
      "outputs": []
    },
    {
      "cell_type": "code",
      "metadata": {
        "id": "AoPxLHuOBb2x"
      },
      "source": [
        "rddLogs = logs.rdd"
      ],
      "execution_count": null,
      "outputs": []
    },
    {
      "cell_type": "markdown",
      "metadata": {
        "id": "1WmJ848CXsB3"
      },
      "source": [
        "Limpio el archivo (de los None) y filtro segun las acciones que me interesa trabajar."
      ]
    },
    {
      "cell_type": "code",
      "metadata": {
        "id": "jBZ3N6UEEkB-"
      },
      "source": [
        "rddAc = rddLogs.filter(lambda x: x.contributor_username != None and x.action != None and ( x.action == 'autocreate' or x.action == 'block' or x.action == 'create' or x.action == 'delete' or x.action == 'move'))"
      ],
      "execution_count": null,
      "outputs": []
    },
    {
      "cell_type": "markdown",
      "metadata": {
        "id": "JMg3nNR7YLOe"
      },
      "source": [
        "Con un .map le doy el formato que me interesa al rdd."
      ]
    },
    {
      "cell_type": "code",
      "metadata": {
        "id": "W1pboV4mX2mV"
      },
      "source": [
        "rddAc = rddAc.map(lambda x: ((x.contributor_username,x.action),1))"
      ],
      "execution_count": null,
      "outputs": []
    },
    {
      "cell_type": "markdown",
      "metadata": {
        "id": "utyCFSZiYS7e"
      },
      "source": [
        "Realizo el calculo para ver cuantas veces hace cada usuario, cada accion."
      ]
    },
    {
      "cell_type": "code",
      "metadata": {
        "id": "7my6Kt-XE5zb"
      },
      "source": [
        "rddAc = rddAc.reduceByKey(lambda x,y:x+y)"
      ],
      "execution_count": null,
      "outputs": []
    },
    {
      "cell_type": "code",
      "metadata": {
        "colab": {
          "base_uri": "https://localhost:8080/"
        },
        "id": "eU1ezLiDYco2",
        "outputId": "41a0b79a-fb09-4dc8-fe20-f0185a08ff9c"
      },
      "source": [
        "rddAc.take(2)"
      ],
      "execution_count": null,
      "outputs": [
        {
          "output_type": "execute_result",
          "data": {
            "text/plain": [
              "[(('Ecemaml', 'delete'), 6973), (('Salvemos ballenas', 'move'), 2)]"
            ]
          },
          "metadata": {},
          "execution_count": 13
        }
      ]
    },
    {
      "cell_type": "markdown",
      "metadata": {
        "id": "Inc_DQYoYoiN"
      },
      "source": [
        "Ahora generare un rdd que contendra (key= nombre del usuario, value = (cada accion, cantidad de veces que la realizo))"
      ]
    },
    {
      "cell_type": "code",
      "metadata": {
        "id": "wtLi9iF9UB20"
      },
      "source": [
        "rddTuplas = rddAc.map(lambda x: (x[0][0], (x[0][1], x[1])))"
      ],
      "execution_count": null,
      "outputs": []
    },
    {
      "cell_type": "code",
      "metadata": {
        "colab": {
          "base_uri": "https://localhost:8080/"
        },
        "id": "g9VJUVc5UELp",
        "outputId": "e18a5560-6e04-4e99-c459-1c594dbacafe"
      },
      "source": [
        "rddTuplas.take(2)"
      ],
      "execution_count": null,
      "outputs": [
        {
          "output_type": "execute_result",
          "data": {
            "text/plain": [
              "[('Ecemaml', ('delete', 6973)), ('Salvemos ballenas', ('move', 2))]"
            ]
          },
          "metadata": {},
          "execution_count": 16
        }
      ]
    },
    {
      "cell_type": "markdown",
      "metadata": {
        "id": "hCbwa_qqZG1n"
      },
      "source": [
        "Cree una funcion para crear una unica tupla como valor de cada usuario, que me indique dependiendo la posicion de la tupla, de que tipo de acciones hizo y cuantas."
      ]
    },
    {
      "cell_type": "code",
      "metadata": {
        "id": "IMiQstPYZ78C"
      },
      "source": [
        "def tuplear(x):\n",
        "    # (user,(#autocreate, #block, #create, #delete, #move))\n",
        "    tupla = [0,0,0,0,0]\n",
        "    if x[0] == 'autocreate':\n",
        "      tupla[0] = x[1]\n",
        "      return tuple(tupla)\n",
        "    elif x[0] == 'block':\n",
        "      tupla[1] = x[1]\n",
        "      return tuple(tupla)\n",
        "    elif x[0] == 'create':\n",
        "      tupla[2] = x[1]\n",
        "      return tuple(tupla)\n",
        "    elif x[0] == 'delete':\n",
        "      tupla[3] = x[1]\n",
        "      return tuple(tupla)\n",
        "    else:\n",
        "      tupla[4] = x[1]\n",
        "      return tuple(tupla)\n"
      ],
      "execution_count": null,
      "outputs": []
    },
    {
      "cell_type": "code",
      "metadata": {
        "id": "2wJB82UpZ2EU"
      },
      "source": [
        "rddTuplas = rddTuplas.map(lambda x: (x[0],tuplear(x[1])))"
      ],
      "execution_count": null,
      "outputs": []
    },
    {
      "cell_type": "code",
      "metadata": {
        "colab": {
          "base_uri": "https://localhost:8080/"
        },
        "id": "2tr7yrTtkhlb",
        "outputId": "4526fb3a-fe4c-4609-8d61-d5e3bc0dbd9b"
      },
      "source": [
        "rddTuplas.take(2)"
      ],
      "execution_count": null,
      "outputs": [
        {
          "output_type": "execute_result",
          "data": {
            "text/plain": [
              "[('Ecemaml', (0, 0, 0, 6973, 0)), ('Salvemos ballenas', (0, 0, 0, 0, 2))]"
            ]
          },
          "metadata": {},
          "execution_count": 19
        }
      ]
    },
    {
      "cell_type": "markdown",
      "metadata": {
        "id": "yNW9QGoqaWD2"
      },
      "source": [
        "Calculo la cantidad final de actividades por cada usario, de cualquiera de los 5 tipos."
      ]
    },
    {
      "cell_type": "code",
      "metadata": {
        "id": "-v83C-kwZKMg"
      },
      "source": [
        "rddTuplas = rddTuplas.reduceByKey(lambda x,y:(x[0]+y[0],x[1]+y[1],x[2]+y[2],x[3]+y[3],x[4]+y[4])).cache()"
      ],
      "execution_count": null,
      "outputs": []
    },
    {
      "cell_type": "code",
      "metadata": {
        "colab": {
          "base_uri": "https://localhost:8080/"
        },
        "id": "3vxuDmdDyyN5",
        "outputId": "cb2b3c2c-65c6-4526-f26f-fe668aee9bbc"
      },
      "source": [
        "rddTuplas.take(2)"
      ],
      "execution_count": null,
      "outputs": [
        {
          "output_type": "execute_result",
          "data": {
            "text/plain": [
              "[('Andrae~eswiki', (0, 0, 1, 0, 0)), ('Carinabumer', (0, 0, 1, 0, 0))]"
            ]
          },
          "metadata": {},
          "execution_count": 21
        }
      ]
    },
    {
      "cell_type": "markdown",
      "metadata": {
        "id": "6V7mqePjZuAi"
      },
      "source": [
        "La formula que debo calcular para obtener el valor de las correlaciones es la siguiente: \n",
        "![corr.jfif](data:image/jpeg;base64,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)"
      ]
    },
    {
      "cell_type": "markdown",
      "metadata": {
        "id": "_40XCSIAZcx1"
      },
      "source": [
        "Calculo el total de cantidad de veces que se hizo cada actividad, y la cantidad de usuarios que realizaron actividades. Para luego poder calcular los promedios (x raya e y raya) para la formula necesaria."
      ]
    },
    {
      "cell_type": "code",
      "metadata": {
        "id": "Zl24iiZX8FZv"
      },
      "source": [
        "totalActUser = rddTuplas.map(lambda x: (x[1],1)).reduce(lambda x,y:((x[0][0]+y[0][0],x[0][1]+y[0][1],x[0][2]+y[0][2],x[0][3]+y[0][3],x[0][4]+y[0][4]), x[1]+y[1]))"
      ],
      "execution_count": null,
      "outputs": []
    },
    {
      "cell_type": "code",
      "metadata": {
        "colab": {
          "base_uri": "https://localhost:8080/"
        },
        "id": "slq8y389qwQa",
        "outputId": "59f4a480-e4c1-4854-f999-05f97df48f0c"
      },
      "source": [
        "totalActUser"
      ],
      "execution_count": null,
      "outputs": [
        {
          "output_type": "execute_result",
          "data": {
            "text/plain": [
              "((1368824, 342252, 5940612, 2396290, 860766), 6114059)"
            ]
          },
          "metadata": {},
          "execution_count": 23
        }
      ]
    },
    {
      "cell_type": "markdown",
      "metadata": {
        "id": "9gilv8ozaxne"
      },
      "source": [
        "Calculo los promedios."
      ]
    },
    {
      "cell_type": "code",
      "metadata": {
        "id": "_6_1pKRRqx5b"
      },
      "source": [
        "promAct = (totalActUser[0][0]/totalActUser[1],totalActUser[0][1]/totalActUser[1],totalActUser[0][2]/totalActUser[1],totalActUser[0][3]/totalActUser[1],totalActUser[0][3]/totalActUser[1])"
      ],
      "execution_count": null,
      "outputs": []
    },
    {
      "cell_type": "markdown",
      "metadata": {
        "id": "rHywwh0jazht"
      },
      "source": [
        "Por cuestion de mejor legibilidad, almacene el valor de cada promedio en variables distintas."
      ]
    },
    {
      "cell_type": "code",
      "metadata": {
        "id": "lKQ1c0burIF1"
      },
      "source": [
        "promedio_autocreate = promAct[0]"
      ],
      "execution_count": null,
      "outputs": []
    },
    {
      "cell_type": "code",
      "metadata": {
        "id": "kjM3C2lesAss"
      },
      "source": [
        "promedio_block = promAct[1]"
      ],
      "execution_count": null,
      "outputs": []
    },
    {
      "cell_type": "code",
      "metadata": {
        "id": "vZ80mr5tsAjf"
      },
      "source": [
        "promedio_create = promAct[2]"
      ],
      "execution_count": null,
      "outputs": []
    },
    {
      "cell_type": "code",
      "metadata": {
        "id": "JOvTgw_ssU8u"
      },
      "source": [
        "promedio_delete =  promAct[3]"
      ],
      "execution_count": null,
      "outputs": []
    },
    {
      "cell_type": "code",
      "metadata": {
        "id": "E-SV9sjbsU4o"
      },
      "source": [
        "promedio_move = promAct[4]"
      ],
      "execution_count": null,
      "outputs": []
    },
    {
      "cell_type": "markdown",
      "metadata": {
        "id": "7LoSdOUga8rd"
      },
      "source": [
        "Genero un rdd \"x_menos_x_raya\", que vale para los terminos de la funcion mostrada anterior mente. Tanto para x_menos_x_raya como para y_menos_y_raya. Lo que se realiza en este punto, es calcular la diferencia, entre la cantidad de veces que cada usuario realizo cada actividad - el promedio por usuario de que esa actividad sea realizada. "
      ]
    },
    {
      "cell_type": "code",
      "metadata": {
        "id": "lxiIyPfWsfBp"
      },
      "source": [
        "x_menos_x_raya = rddTuplas.map(lambda x: (x[0], x[1][0] - promedio_autocreate, x[1][1]-promedio_block, x[1][2]-promedio_create,x[1][3]-promedio_delete,x[1][4]-promedio_move)).cache()"
      ],
      "execution_count": null,
      "outputs": []
    },
    {
      "cell_type": "code",
      "metadata": {
        "colab": {
          "base_uri": "https://localhost:8080/"
        },
        "id": "Mjr1dgDps1hK",
        "outputId": "fd011b8b-772e-4341-8c34-5161a2f3a137"
      },
      "source": [
        "x_menos_x_raya.take(2)"
      ],
      "execution_count": null,
      "outputs": [
        {
          "output_type": "execute_result",
          "data": {
            "text/plain": [
              "[('Andrae~eswiki',\n",
              "  -0.2238813855083832,\n",
              "  -0.055977870020554266,\n",
              "  0.02836855188999643,\n",
              "  -0.3919311213712527,\n",
              "  -0.3919311213712527),\n",
              " ('Carinabumer',\n",
              "  -0.2238813855083832,\n",
              "  -0.055977870020554266,\n",
              "  0.02836855188999643,\n",
              "  -0.3919311213712527,\n",
              "  -0.3919311213712527)]"
            ]
          },
          "metadata": {},
          "execution_count": 31
        }
      ]
    },
    {
      "cell_type": "markdown",
      "metadata": {
        "id": "A5HIJAkMbfp9"
      },
      "source": [
        "Importo la libreria numpy, para realizar operaciones aritmeticas."
      ]
    },
    {
      "cell_type": "code",
      "metadata": {
        "id": "aa7EGsmvykGV"
      },
      "source": [
        "import numpy as np"
      ],
      "execution_count": null,
      "outputs": []
    },
    {
      "cell_type": "markdown",
      "metadata": {
        "id": "KmuU7aFe3pFX"
      },
      "source": [
        "Indices:\n",
        "\n",
        "\n",
        "1.   Autocreate\n",
        "2.   Block\n",
        "3.   Create\n",
        "4.   Delete\n",
        "5.   Move\n",
        "\n",
        "\n"
      ]
    },
    {
      "cell_type": "markdown",
      "metadata": {
        "id": "qjxtiUNobmQl"
      },
      "source": [
        "Defino la funcion \"correlaciones\", que recibe dos indices, y lo que realiza es, aplicando la funcion que mostre anteriormente, calcular la correlacion entre esas dos acciones (correspondientes cada una a los indices indicados respectivamente)."
      ]
    },
    {
      "cell_type": "code",
      "metadata": {
        "id": "R0Z7Jw1BzOjj"
      },
      "source": [
        "def correlaciones(indice1, indice2):\n",
        "    numerador = x_menos_x_raya.map(lambda x: (x[indice1]*x[indice2])).reduce(lambda x,y: x+y)\n",
        "    denominador1 = np.sqrt(x_menos_x_raya.map(lambda x: (x[indice1]**2)).reduce(lambda x,y:x+y))\n",
        "    denominador2 = np.sqrt(x_menos_x_raya.map(lambda x: (x[indice2]**2)).reduce(lambda x,y:x+y))\n",
        "    return (numerador/(denominador1*denominador2))"
      ],
      "execution_count": null,
      "outputs": []
    },
    {
      "cell_type": "markdown",
      "metadata": {
        "id": "lZx95d4Db7PD"
      },
      "source": [
        "Genero la matriz de correlaciones entre todas las actividades."
      ]
    },
    {
      "cell_type": "code",
      "metadata": {
        "id": "AT3jS-_44y0r"
      },
      "source": [
        "matriz = [[correlaciones(1,1),correlaciones(1,2),correlaciones(1,3),correlaciones(1,4),correlaciones(1,5)],[correlaciones(2,1),correlaciones(2,2),correlaciones(2,3),correlaciones(2,4),correlaciones(2,5)],[correlaciones(3,1),correlaciones(3,2),correlaciones(3,3),correlaciones(3,4),correlaciones(3,5)],[correlaciones(4,1),correlaciones(4,2),correlaciones(4,3),correlaciones(4,4),correlaciones(4,5)],[correlaciones(5,1),correlaciones(5,2),correlaciones(5,3),correlaciones(5,4),correlaciones(5,5)]]"
      ],
      "execution_count": null,
      "outputs": []
    },
    {
      "cell_type": "code",
      "metadata": {
        "colab": {
          "base_uri": "https://localhost:8080/"
        },
        "id": "APb7K91v8YG4",
        "outputId": "f1338cf9-7924-46a5-ce2b-5a047bdc61c7"
      },
      "source": [
        "matriz"
      ],
      "execution_count": null,
      "outputs": [
        {
          "output_type": "execute_result",
          "data": {
            "text/plain": [
              "[[1.0,\n",
              "  -0.0011732505989098467,\n",
              "  -0.005115620753970479,\n",
              "  -0.0013987147576500862,\n",
              "  0.0002769501605177375],\n",
              " [-0.0011732505989098467,\n",
              "  1.0,\n",
              "  0.04889544034113139,\n",
              "  0.694869107440536,\n",
              "  0.052623832613818936],\n",
              " [-0.005115620753970479,\n",
              "  0.04889544034113139,\n",
              "  1.0,\n",
              "  0.07016330061647112,\n",
              "  0.013696697302446149],\n",
              " [-0.0013987147576500862,\n",
              "  0.694869107440536,\n",
              "  0.07016330061647112,\n",
              "  1.0000000000000002,\n",
              "  0.08380323592245703],\n",
              " [0.0002769501605177375,\n",
              "  0.052623832613818936,\n",
              "  0.013696697302446149,\n",
              "  0.08380323592245703,\n",
              "  1.0000000000000002]]"
            ]
          },
          "metadata": {},
          "execution_count": 37
        }
      ]
    },
    {
      "cell_type": "markdown",
      "metadata": {
        "id": "agZCfSEYcTTv"
      },
      "source": [
        "Importo las librerias para realizar la visualización."
      ]
    },
    {
      "cell_type": "code",
      "metadata": {
        "id": "qEV4I0vv5nJz"
      },
      "source": [
        "import seaborn as sns\n",
        "import matplotlib.pyplot as plt"
      ],
      "execution_count": null,
      "outputs": []
    },
    {
      "cell_type": "code",
      "metadata": {
        "colab": {
          "base_uri": "https://localhost:8080/",
          "height": 875
        },
        "id": "1fnNda_z5czN",
        "outputId": "c39d130c-cf89-4170-b561-0154bd00f647"
      },
      "source": [
        "sns.set(rc={\"figure.dpi\":150})\n",
        "sns.set(rc = {'figure.figsize':(6.4, 4.8)})\n",
        "aa = sns.heatmap(matriz)\n",
        "aa.set_title('correlacion entre acciones \\npara usuarios registrados',size =10)\n",
        "aa.set_xlabel(\"action\", fontsize = 10)\n",
        "aa.set_ylabel(\"action\", fontsize = 10)\n",
        "plt.xticks([0.5,1.5,2.5,3.5,4.5], ['autocreate','block','create','delete','move'])\n",
        "plt.yticks([0.5,1.5,2.5,3.5,4.5], ['autocreate','block','create','delete','move'],rotation=0)"
      ],
      "execution_count": null,
      "outputs": [
        {
          "output_type": "execute_result",
          "data": {
            "text/plain": [
              "([<matplotlib.axis.YTick at 0x7f7096576c50>,\n",
              "  <matplotlib.axis.YTick at 0x7f7096576950>,\n",
              "  <matplotlib.axis.YTick at 0x7f70964f5690>,\n",
              "  <matplotlib.axis.YTick at 0x7f70964f5c10>,\n",
              "  <matplotlib.axis.YTick at 0x7f7096506610>],\n",
              " [Text(0, 0.5, 'autocreate'),\n",
              "  Text(0, 1.5, 'block'),\n",
              "  Text(0, 2.5, 'create'),\n",
              "  Text(0, 3.5, 'delete'),\n",
              "  Text(0, 4.5, 'move')])"
            ]
          },
          "metadata": {},
          "execution_count": 39
        },
        {
          "output_type": "display_data",
          "data": {
            "image/png": "[encoded data removed]",
            "text/plain": [
              "<Figure size 960x720 with 2 Axes>"
            ]
          },
          "metadata": {}
        }
      ]
    },
    {
      "cell_type": "code",
      "metadata": {
        "id": "oivb93f68fw-"
      },
      "source": [
        ""
      ],
      "execution_count": null,
      "outputs": []
    }
  ]
}