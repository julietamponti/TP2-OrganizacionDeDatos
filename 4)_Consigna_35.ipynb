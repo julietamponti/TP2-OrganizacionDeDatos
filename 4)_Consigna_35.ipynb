{
  "nbformat": 4,
  "nbformat_minor": 5,
  "metadata": {
    "colab": {
      "name": "4) Consigna 35",
      "provenance": [],
      "collapsed_sections": [],
      "include_colab_link": true
    },
    "kernelspec": {
      "display_name": "Python 3",
      "language": "python",
      "name": "python3"
    },
    "language_info": {
      "codemirror_mode": {
        "name": "ipython",
        "version": 3
      },
      "file_extension": ".py",
      "mimetype": "text/x-python",
      "name": "python",
      "nbconvert_exporter": "python",
      "pygments_lexer": "ipython3",
      "version": "3.8.8"
    }
  },
  "cells": [
    {
      "cell_type": "markdown",
      "metadata": {
        "id": "view-in-github",
        "colab_type": "text"
      },
      "source": [
        "<a href=\"https://colab.research.google.com/github/julietamponti/tp2Datos-2C2021-/blob/main/4)_Consigna_35.ipynb\" target=\"_parent\"><img src=\"https://colab.research.google.com/assets/colab-badge.svg\" alt=\"Open In Colab\"/></a>"
      ]
    },
    {
      "cell_type": "markdown",
      "metadata": {
        "id": "554e31b3"
      },
      "source": [
        "## ***¿Cuál es el mínimo que ha durado desde su registro un usuario bloqueado en la plataforma?***"
      ],
      "id": "554e31b3"
    },
    {
      "cell_type": "markdown",
      "metadata": {
        "id": "8uSzJX1iDdTD"
      },
      "source": [
        "Realizo la instalación de todo lo que utilizare en el desarrollo de la consulta."
      ],
      "id": "8uSzJX1iDdTD"
    },
    {
      "cell_type": "code",
      "metadata": {
        "id": "2c061e34",
        "colab": {
          "base_uri": "https://localhost:8080/"
        },
        "outputId": "4ef31cff-5053-406b-ad87-d34a8daa2c11"
      },
      "source": [
        "!pip install pyspark\n",
        "!pip install -U -q PyDrive\n",
        "!apt update\n",
        "!apt install openjdk-8-jdk-headless -qq\n",
        "#!apt install default-jre\n",
        "#!apt install default-jdk\n",
        "import os\n",
        "os.environ[\"JAVA_HOME\"] = \"/usr/lib/jvm/java-8-openjdk-amd64\""
      ],
      "id": "2c061e34",
      "execution_count": 1,
      "outputs": [
        {
          "output_type": "stream",
          "name": "stdout",
          "text": [
            "Requirement already satisfied: pyspark in /usr/local/lib/python3.7/dist-packages (3.2.0)\n",
            "Requirement already satisfied: py4j==0.10.9.2 in /usr/local/lib/python3.7/dist-packages (from pyspark) (0.10.9.2)\n",
            "Get:1 http://security.ubuntu.com/ubuntu bionic-security InRelease [88.7 kB]\n",
            "Ign:2 https://developer.download.nvidia.com/compute/cuda/repos/ubuntu1804/x86_64  InRelease\n",
            "Hit:3 https://cloud.r-project.org/bin/linux/ubuntu bionic-cran40/ InRelease\n",
            "Ign:4 https://developer.download.nvidia.com/compute/machine-learning/repos/ubuntu1804/x86_64  InRelease\n",
            "Hit:5 https://developer.download.nvidia.com/compute/cuda/repos/ubuntu1804/x86_64  Release\n",
            "Hit:6 http://ppa.launchpad.net/c2d4u.team/c2d4u4.0+/ubuntu bionic InRelease\n",
            "Hit:7 https://developer.download.nvidia.com/compute/machine-learning/repos/ubuntu1804/x86_64  Release\n",
            "Hit:8 http://archive.ubuntu.com/ubuntu bionic InRelease\n",
            "Get:9 http://archive.ubuntu.com/ubuntu bionic-updates InRelease [88.7 kB]\n",
            "Hit:10 http://ppa.launchpad.net/cran/libgit2/ubuntu bionic InRelease\n",
            "Hit:11 http://ppa.launchpad.net/deadsnakes/ppa/ubuntu bionic InRelease\n",
            "Get:12 http://archive.ubuntu.com/ubuntu bionic-backports InRelease [74.6 kB]\n",
            "Hit:13 http://ppa.launchpad.net/graphics-drivers/ppa/ubuntu bionic InRelease\n",
            "Fetched 252 kB in 3s (72.4 kB/s)\n",
            "Reading package lists... Done\n",
            "Building dependency tree       \n",
            "Reading state information... Done\n",
            "61 packages can be upgraded. Run 'apt list --upgradable' to see them.\n",
            "openjdk-8-jdk-headless is already the newest version (8u292-b10-0ubuntu1~18.04).\n",
            "The following package was automatically installed and is no longer required:\n",
            "  libnvidia-common-460\n",
            "Use 'apt autoremove' to remove it.\n",
            "0 upgraded, 0 newly installed, 0 to remove and 61 not upgraded.\n"
          ]
        }
      ]
    },
    {
      "cell_type": "code",
      "metadata": {
        "id": "oOh1jpB7neUn",
        "colab": {
          "base_uri": "https://localhost:8080/"
        },
        "outputId": "b0a7d7e6-b2b1-474a-e055-3cdf170852f2"
      },
      "source": [
        "!pip install pyarrow"
      ],
      "id": "oOh1jpB7neUn",
      "execution_count": 2,
      "outputs": [
        {
          "output_type": "stream",
          "name": "stdout",
          "text": [
            "Requirement already satisfied: pyarrow in /usr/local/lib/python3.7/dist-packages (3.0.0)\n",
            "Requirement already satisfied: numpy>=1.16.6 in /usr/local/lib/python3.7/dist-packages (from pyarrow) (1.19.5)\n"
          ]
        }
      ]
    },
    {
      "cell_type": "markdown",
      "metadata": {
        "id": "XbWZZhnaDgEb"
      },
      "source": [
        "Importo las librerias."
      ],
      "id": "XbWZZhnaDgEb"
    },
    {
      "cell_type": "code",
      "metadata": {
        "id": "f6-k4NpCnNVf"
      },
      "source": [
        "from pydrive.auth import GoogleAuth\n",
        "from pydrive.drive import GoogleDrive\n",
        "from google.colab import auth\n",
        "from oauth2client.client import GoogleCredentials\n",
        "from pyspark.sql import *\n",
        "from pyspark.sql.functions import *\n",
        "from pyspark import SparkContext\n",
        "from pyspark.sql import SQLContext\n",
        "import pandas as pd "
      ],
      "id": "f6-k4NpCnNVf",
      "execution_count": 3,
      "outputs": []
    },
    {
      "cell_type": "code",
      "metadata": {
        "id": "WvBW6BsAnhmS"
      },
      "source": [
        "import pyarrow"
      ],
      "id": "WvBW6BsAnhmS",
      "execution_count": 4,
      "outputs": []
    },
    {
      "cell_type": "markdown",
      "metadata": {
        "id": "AzV8hbg8Mcnz"
      },
      "source": [
        "Creo el SparkSession."
      ],
      "id": "AzV8hbg8Mcnz"
    },
    {
      "cell_type": "code",
      "metadata": {
        "id": "-JxzYizTnPh_"
      },
      "source": [
        "spark = SparkSession.builder.getOrCreate()\n",
        "sc = spark.sparkContext"
      ],
      "id": "-JxzYizTnPh_",
      "execution_count": 5,
      "outputs": []
    },
    {
      "cell_type": "markdown",
      "metadata": {
        "id": "KVqzuByyMfXD"
      },
      "source": [
        "Accedo a mi google drive para acceder al archivo."
      ],
      "id": "KVqzuByyMfXD"
    },
    {
      "cell_type": "code",
      "metadata": {
        "id": "CE7yipd_nRsN",
        "colab": {
          "base_uri": "https://localhost:8080/"
        },
        "outputId": "8abe50d6-546a-4d8a-a106-a4e6369fd347"
      },
      "source": [
        "from google.colab import drive \n",
        "drive.mount('/content/gdrive')\n",
        "sqlContext = SQLContext(sc)"
      ],
      "id": "CE7yipd_nRsN",
      "execution_count": 6,
      "outputs": [
        {
          "output_type": "stream",
          "name": "stdout",
          "text": [
            "Drive already mounted at /content/gdrive; to attempt to forcibly remount, call drive.mount(\"/content/gdrive\", force_remount=True).\n"
          ]
        },
        {
          "output_type": "stream",
          "name": "stderr",
          "text": [
            "/usr/local/lib/python3.7/dist-packages/pyspark/sql/context.py:79: FutureWarning: Deprecated in 3.0.0. Use SparkSession.builder.getOrCreate() instead.\n",
            "  FutureWarning\n"
          ]
        }
      ]
    },
    {
      "cell_type": "markdown",
      "metadata": {
        "id": "y7NHXH4sKCbc"
      },
      "source": [
        "Lo pase a .parquet desde el local al archivo, porque desde colab no me dejaba, me saltaba un error con el drive.\n"
      ],
      "id": "y7NHXH4sKCbc"
    },
    {
      "cell_type": "markdown",
      "metadata": {
        "id": "A3SdYCz1NPtz"
      },
      "source": [
        "Leo el archivo."
      ],
      "id": "A3SdYCz1NPtz"
    },
    {
      "cell_type": "code",
      "metadata": {
        "id": "m_SZRhNgqQUO"
      },
      "source": [
        "logs = sqlContext.read.parquet('gdrive/My Drive/TP2 - Datos/logs.parquet')"
      ],
      "id": "m_SZRhNgqQUO",
      "execution_count": 7,
      "outputs": []
    },
    {
      "cell_type": "code",
      "metadata": {
        "id": "-aZvRDdZn7Ye"
      },
      "source": [
        "rddLogs = logs.rdd"
      ],
      "id": "-aZvRDdZn7Ye",
      "execution_count": 8,
      "outputs": []
    },
    {
      "cell_type": "markdown",
      "metadata": {
        "id": "NTrcggnWNSVb"
      },
      "source": [
        "Limpio el rdd."
      ],
      "id": "NTrcggnWNSVb"
    },
    {
      "cell_type": "code",
      "metadata": {
        "id": "q-v3IdOJ-DIO"
      },
      "source": [
        "rddLogs = rddLogs.filter(lambda x: x.contributor_username != None and x.title != None)"
      ],
      "id": "q-v3IdOJ-DIO",
      "execution_count": 9,
      "outputs": []
    },
    {
      "cell_type": "markdown",
      "metadata": {
        "id": "3i5jt64tNUTz"
      },
      "source": [
        "Filtro por bloqueados."
      ],
      "id": "3i5jt64tNUTz"
    },
    {
      "cell_type": "code",
      "metadata": {
        "id": "elgW5-4Kn8ME"
      },
      "source": [
        "rddBloq = rddLogs.filter(lambda x: x.logtype == 'block')"
      ],
      "id": "elgW5-4Kn8ME",
      "execution_count": 10,
      "outputs": []
    },
    {
      "cell_type": "markdown",
      "metadata": {
        "id": "FYQDzOPgNXIL"
      },
      "source": [
        "Averiguo cuales fueron los usuarios bloqueados y en que fecha. Me quedo con ese formato de RDD."
      ],
      "id": "FYQDzOPgNXIL"
    },
    {
      "cell_type": "code",
      "metadata": {
        "id": "iDKjbolXCP-u"
      },
      "source": [
        "rddBlock = rddBloq.map(lambda x: (x.title.split(':')[1],pd.to_datetime(x.timestamp)))"
      ],
      "id": "iDKjbolXCP-u",
      "execution_count": 11,
      "outputs": []
    },
    {
      "cell_type": "markdown",
      "metadata": {
        "id": "RMHXno2sX2Ac"
      },
      "source": [
        "Realizo un take para ver que cual es el formato."
      ],
      "id": "RMHXno2sX2Ac"
    },
    {
      "cell_type": "code",
      "metadata": {
        "id": "qOncda-e0Mtq",
        "colab": {
          "base_uri": "https://localhost:8080/"
        },
        "outputId": "31f66b34-aded-49fb-a34e-734a2d790b11"
      },
      "source": [
        "rddBlock.take(2)"
      ],
      "id": "qOncda-e0Mtq",
      "execution_count": 12,
      "outputs": [
        {
          "output_type": "execute_result",
          "data": {
            "text/plain": [
              "[('212.55.30.157', Timestamp('2004-12-23 08:28:32+0000', tz='UTC')),\n",
              " ('201.241.228.15', Timestamp('2004-12-27 17:54:50+0000', tz='UTC'))]"
            ]
          },
          "metadata": {},
          "execution_count": 12
        }
      ]
    },
    {
      "cell_type": "markdown",
      "metadata": {
        "id": "PWjbv7KpNdxL"
      },
      "source": [
        "Me quedo con la fecha del primer bloqueo del usuario."
      ],
      "id": "PWjbv7KpNdxL"
    },
    {
      "cell_type": "code",
      "metadata": {
        "id": "qFiWyTLQQB-z"
      },
      "source": [
        "rddBlock = rddBlock.reduceByKey(lambda a,b: a if a < b else b)"
      ],
      "id": "qFiWyTLQQB-z",
      "execution_count": 13,
      "outputs": []
    },
    {
      "cell_type": "markdown",
      "metadata": {
        "id": "NWtuNzK7Nkv7"
      },
      "source": [
        "Filtro por registro de usuarios (durante todo el desarrollo trabajo con los usuarios ***registrados***)."
      ],
      "id": "NWtuNzK7Nkv7"
    },
    {
      "cell_type": "code",
      "metadata": {
        "id": "ZnbCTkE5C5mU"
      },
      "source": [
        "rddNewUser = rddLogs.filter(lambda x: x.logtype == 'newusers')"
      ],
      "id": "ZnbCTkE5C5mU",
      "execution_count": 14,
      "outputs": []
    },
    {
      "cell_type": "markdown",
      "metadata": {
        "id": "_KyOnoTMNya7"
      },
      "source": [
        "Me quedo con un RDD que tiene el username del usuario creado y la fecha en que se creo el usuario."
      ],
      "id": "_KyOnoTMNya7"
    },
    {
      "cell_type": "code",
      "metadata": {
        "id": "b_O70cGlJYgd"
      },
      "source": [
        "rddUser =  rddNewUser.map(lambda x: (x.contributor_username,pd.to_datetime(x.timestamp)))"
      ],
      "id": "b_O70cGlJYgd",
      "execution_count": 15,
      "outputs": []
    },
    {
      "cell_type": "markdown",
      "metadata": {
        "id": "glrOp9zhYE5I"
      },
      "source": [
        "Realizo un take para ver que cual es el formato."
      ],
      "id": "glrOp9zhYE5I"
    },
    {
      "cell_type": "code",
      "metadata": {
        "id": "rQKDhZXR1UQ3",
        "colab": {
          "base_uri": "https://localhost:8080/"
        },
        "outputId": "dcf19e48-765e-4ede-adc7-49b03bb509c0"
      },
      "source": [
        "rddUser.take(2)"
      ],
      "id": "rQKDhZXR1UQ3",
      "execution_count": 16,
      "outputs": [
        {
          "output_type": "execute_result",
          "data": {
            "text/plain": [
              "[('Yliana', Timestamp('2005-09-07 22:33:56+0000', tz='UTC')),\n",
              " ('BrokenSegue', Timestamp('2005-09-07 22:50:58+0000', tz='UTC'))]"
            ]
          },
          "metadata": {},
          "execution_count": 16
        }
      ]
    },
    {
      "cell_type": "markdown",
      "metadata": {
        "id": "f02JaUkROF6j"
      },
      "source": [
        "Me quedo con la primer fecha de registro del usuario."
      ],
      "id": "f02JaUkROF6j"
    },
    {
      "cell_type": "code",
      "metadata": {
        "id": "bOoSK1XTS7Yo"
      },
      "source": [
        "rddUser = rddUser.reduceByKey(lambda a,b: a if a < b else b)"
      ],
      "id": "bOoSK1XTS7Yo",
      "execution_count": 17,
      "outputs": []
    },
    {
      "cell_type": "markdown",
      "metadata": {
        "id": "VvNcfyDOYI6c"
      },
      "source": [
        "Realizo un take para ver que cual es el formato."
      ],
      "id": "VvNcfyDOYI6c"
    },
    {
      "cell_type": "code",
      "metadata": {
        "id": "OtRBxHYd1kmB",
        "colab": {
          "base_uri": "https://localhost:8080/"
        },
        "outputId": "b3f725d1-fcef-4304-a6a5-5fbc383550e9"
      },
      "source": [
        "rddUser.take(2)"
      ],
      "id": "OtRBxHYd1kmB",
      "execution_count": 18,
      "outputs": [
        {
          "output_type": "execute_result",
          "data": {
            "text/plain": [
              "[('Heavymetal~eswiki', Timestamp('2005-09-08 23:56:22+0000', tz='UTC')),\n",
              " ('MENDIOLA´S', Timestamp('2005-09-09 00:09:06+0000', tz='UTC'))]"
            ]
          },
          "metadata": {},
          "execution_count": 18
        }
      ]
    },
    {
      "cell_type": "markdown",
      "metadata": {
        "id": "5sL5KHPLOJlT"
      },
      "source": [
        "Realizo un join para tener (username, (fecha de alta, fecha de bloqueo))."
      ],
      "id": "5sL5KHPLOJlT"
    },
    {
      "cell_type": "code",
      "metadata": {
        "id": "c7mQlBeu4yYb"
      },
      "source": [
        "rddJoin = rddUser.join(rddBlock)"
      ],
      "id": "c7mQlBeu4yYb",
      "execution_count": 19,
      "outputs": []
    },
    {
      "cell_type": "markdown",
      "metadata": {
        "id": "gKUHT-JjYKdV"
      },
      "source": [
        "Realizo un take para ver que cual es el formato."
      ],
      "id": "gKUHT-JjYKdV"
    },
    {
      "cell_type": "code",
      "metadata": {
        "id": "9LAsG-iiXri7",
        "colab": {
          "base_uri": "https://localhost:8080/"
        },
        "outputId": "6452f822-7a98-4e27-ed1c-8e9573d5385b"
      },
      "source": [
        "rddJoin.take(2)"
      ],
      "id": "9LAsG-iiXri7",
      "execution_count": 20,
      "outputs": [
        {
          "output_type": "execute_result",
          "data": {
            "text/plain": [
              "[('Phillip ray xd',\n",
              "  (Timestamp('2020-07-12 22:37:06+0000', tz='UTC'),\n",
              "   Timestamp('2020-07-12 22:38:51+0000', tz='UTC'))),\n",
              " ('ホセ・マヌエルバスケスがアリアナグランデを脅かす',\n",
              "  (Timestamp('2021-07-04 09:26:35+0000', tz='UTC'),\n",
              "   Timestamp('2021-07-04 09:26:58+0000', tz='UTC')))]"
            ]
          },
          "metadata": {},
          "execution_count": 20
        }
      ]
    },
    {
      "cell_type": "markdown",
      "metadata": {
        "id": "BFlEFyZkOQwD"
      },
      "source": [
        "Importo numpy para utilizar operaciones con el timedelta."
      ],
      "id": "BFlEFyZkOQwD"
    },
    {
      "cell_type": "code",
      "metadata": {
        "id": "1JedR_SbQ1C_"
      },
      "source": [
        "import numpy as np"
      ],
      "id": "1JedR_SbQ1C_",
      "execution_count": 21,
      "outputs": []
    },
    {
      "cell_type": "markdown",
      "metadata": {
        "id": "uTpTMO0hOXF0"
      },
      "source": [
        "Calculo las duraciones de los usuarios haciendo fecha de bloqueo - fecha de alta en el sitio. Filtro con >0 a cero, dado que hay bugs en los datos. *Realice esta consulta dado que me daban resultados extraños, ya que habia numeros muy chicos y a su vez muy grandes, y en teoria todos deberian ser mayores a cero, dado que al trabajar con usuarios registrados, antes de ser bloqueados tendrian que ser registrados.*"
      ],
      "id": "uTpTMO0hOXF0"
    },
    {
      "cell_type": "code",
      "metadata": {
        "id": "me691adPLr1M"
      },
      "source": [
        "rddDelta = rddJoin.map(lambda x:(x[1][1]-x[1][0])).filter(lambda x: x>np.timedelta64(0))"
      ],
      "id": "me691adPLr1M",
      "execution_count": 22,
      "outputs": []
    },
    {
      "cell_type": "markdown",
      "metadata": {
        "id": "1r31nAOdOjeT"
      },
      "source": [
        "**Resultado**"
      ],
      "id": "1r31nAOdOjeT"
    },
    {
      "cell_type": "code",
      "metadata": {
        "colab": {
          "base_uri": "https://localhost:8080/"
        },
        "id": "jCqkquxVU2Ce",
        "outputId": "a3308921-cc77-40aa-aeab-d19306201a57"
      },
      "source": [
        "rddDelta.min()"
      ],
      "id": "jCqkquxVU2Ce",
      "execution_count": 23,
      "outputs": [
        {
          "output_type": "execute_result",
          "data": {
            "text/plain": [
              "Timedelta('0 days 00:00:04')"
            ]
          },
          "metadata": {},
          "execution_count": 23
        }
      ]
    },
    {
      "cell_type": "markdown",
      "metadata": {
        "id": "BLBxt0cVY9R0"
      },
      "source": [
        "En el desarrollo de la consulta, se muestran todos los pasos intermedios, pero puede ser llevada acabo en menos lineas de codigo."
      ],
      "id": "BLBxt0cVY9R0"
    }
  ]
}