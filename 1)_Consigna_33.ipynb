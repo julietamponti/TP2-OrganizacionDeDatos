{
  "nbformat": 4,
  "nbformat_minor": 5,
  "metadata": {
    "kernelspec": {
      "display_name": "Python 3",
      "language": "python",
      "name": "python3"
    },
    "language_info": {
      "codemirror_mode": {
        "name": "ipython",
        "version": 3
      },
      "file_extension": ".py",
      "mimetype": "text/x-python",
      "name": "python",
      "nbconvert_exporter": "python",
      "pygments_lexer": "ipython3",
      "version": "3.8.8"
    },
    "colab": {
      "name": "1) Consigna 33",
      "provenance": [],
      "collapsed_sections": [],
      "include_colab_link": true
    }
  },
  "cells": [
    {
      "cell_type": "markdown",
      "metadata": {
        "id": "view-in-github",
        "colab_type": "text"
      },
      "source": [
        "<a href=\"https://colab.research.google.com/github/julietamponti/tp2Datos-2C2021-/blob/main/1)_Consigna_33.ipynb\" target=\"_parent\"><img src=\"https://colab.research.google.com/assets/colab-badge.svg\" alt=\"Open In Colab\"/></a>"
      ]
    },
    {
      "cell_type": "markdown",
      "metadata": {
        "id": "def5237f"
      },
      "source": [
        "# ***¿Dónde está la referencia geográfica más repetida en la tierra de toda la Wikipedia Español?***"
      ],
      "id": "def5237f"
    },
    {
      "cell_type": "markdown",
      "metadata": {
        "id": "YeKxmNp5z4TZ"
      },
      "source": [
        "Realizo la instalación de todo lo que utilizare en el desarrollo de la consulta."
      ],
      "id": "YeKxmNp5z4TZ"
    },
    {
      "cell_type": "code",
      "metadata": {
        "id": "t_ueHdO5bwgk",
        "colab": {
          "base_uri": "https://localhost:8080/"
        },
        "outputId": "c409d84e-3b89-4715-b058-e7059bc67206"
      },
      "source": [
        "!pip install pyspark\n",
        "!pip install -U -q PyDrive\n",
        "!apt update\n",
        "!apt install openjdk-8-jdk-headless -qq\n",
        "#!apt install default-jre\n",
        "#!apt install default-jdk\n",
        "import os\n",
        "os.environ[\"JAVA_HOME\"] = \"/usr/lib/jvm/java-8-openjdk-amd64\""
      ],
      "id": "t_ueHdO5bwgk",
      "execution_count": 1,
      "outputs": [
        {
          "output_type": "stream",
          "name": "stdout",
          "text": [
            "Requirement already satisfied: pyspark in /usr/local/lib/python3.7/dist-packages (3.2.0)\n",
            "Requirement already satisfied: py4j==0.10.9.2 in /usr/local/lib/python3.7/dist-packages (from pyspark) (0.10.9.2)\n",
            "Ign:1 https://developer.download.nvidia.com/compute/cuda/repos/ubuntu1804/x86_64  InRelease\n",
            "Hit:2 https://cloud.r-project.org/bin/linux/ubuntu bionic-cran40/ InRelease\n",
            "Get:3 http://security.ubuntu.com/ubuntu bionic-security InRelease [88.7 kB]\n",
            "Ign:4 https://developer.download.nvidia.com/compute/machine-learning/repos/ubuntu1804/x86_64  InRelease\n",
            "Hit:5 https://developer.download.nvidia.com/compute/cuda/repos/ubuntu1804/x86_64  Release\n",
            "Hit:6 https://developer.download.nvidia.com/compute/machine-learning/repos/ubuntu1804/x86_64  Release\n",
            "Hit:7 http://ppa.launchpad.net/c2d4u.team/c2d4u4.0+/ubuntu bionic InRelease\n",
            "Hit:8 http://archive.ubuntu.com/ubuntu bionic InRelease\n",
            "Get:9 http://archive.ubuntu.com/ubuntu bionic-updates InRelease [88.7 kB]\n",
            "Hit:10 http://ppa.launchpad.net/cran/libgit2/ubuntu bionic InRelease\n",
            "Hit:13 http://ppa.launchpad.net/deadsnakes/ppa/ubuntu bionic InRelease\n",
            "Get:14 http://archive.ubuntu.com/ubuntu bionic-backports InRelease [74.6 kB]\n",
            "Hit:15 http://ppa.launchpad.net/graphics-drivers/ppa/ubuntu bionic InRelease\n",
            "Fetched 252 kB in 3s (101 kB/s)\n",
            "Reading package lists... Done\n",
            "Building dependency tree       \n",
            "Reading state information... Done\n",
            "61 packages can be upgraded. Run 'apt list --upgradable' to see them.\n",
            "openjdk-8-jdk-headless is already the newest version (8u292-b10-0ubuntu1~18.04).\n",
            "The following package was automatically installed and is no longer required:\n",
            "  libnvidia-common-460\n",
            "Use 'apt autoremove' to remove it.\n",
            "0 upgraded, 0 newly installed, 0 to remove and 61 not upgraded.\n"
          ]
        }
      ]
    },
    {
      "cell_type": "markdown",
      "metadata": {
        "id": "1ULHu95c0HfO"
      },
      "source": [
        "Importo librerias."
      ],
      "id": "1ULHu95c0HfO"
    },
    {
      "cell_type": "code",
      "metadata": {
        "id": "0c4d9bef"
      },
      "source": [
        "from pydrive.auth import GoogleAuth\n",
        "from pydrive.drive import GoogleDrive\n",
        "from google.colab import auth\n",
        "from oauth2client.client import GoogleCredentials\n",
        "from pyspark.sql import *\n",
        "from pyspark.sql.functions import *\n",
        "from pyspark import SparkContext\n",
        "from pyspark.sql import SQLContext\n",
        "import pandas as pd "
      ],
      "id": "0c4d9bef",
      "execution_count": 2,
      "outputs": []
    },
    {
      "cell_type": "markdown",
      "metadata": {
        "id": "d8KXv42O0Kfx"
      },
      "source": [
        "Creo el sparkSession."
      ],
      "id": "d8KXv42O0Kfx"
    },
    {
      "cell_type": "code",
      "metadata": {
        "id": "R1_yiOnZaSbe"
      },
      "source": [
        "spark = SparkSession.builder.getOrCreate()\n",
        "sc = spark.sparkContext"
      ],
      "id": "R1_yiOnZaSbe",
      "execution_count": 3,
      "outputs": []
    },
    {
      "cell_type": "markdown",
      "metadata": {
        "id": "jEw8_y7D0VY5"
      },
      "source": [
        "Accedo a mi drive para llevar acabo la lectura del archivo."
      ],
      "id": "jEw8_y7D0VY5"
    },
    {
      "cell_type": "code",
      "metadata": {
        "id": "XKuHjAkhXvH6",
        "colab": {
          "base_uri": "https://localhost:8080/"
        },
        "outputId": "194da07c-a32b-453c-a462-f7891a4801d6"
      },
      "source": [
        "from google.colab import drive \n",
        "drive.mount('/content/gdrive')\n",
        "sqlContext = SQLContext(sc)"
      ],
      "id": "XKuHjAkhXvH6",
      "execution_count": 4,
      "outputs": [
        {
          "output_type": "stream",
          "name": "stdout",
          "text": [
            "Drive already mounted at /content/gdrive; to attempt to forcibly remount, call drive.mount(\"/content/gdrive\", force_remount=True).\n"
          ]
        },
        {
          "output_type": "stream",
          "name": "stderr",
          "text": [
            "/usr/local/lib/python3.7/dist-packages/pyspark/sql/context.py:79: FutureWarning: Deprecated in 3.0.0. Use SparkSession.builder.getOrCreate() instead.\n",
            "  FutureWarning\n"
          ]
        }
      ]
    },
    {
      "cell_type": "markdown",
      "metadata": {
        "id": "d4R3p46O0d80"
      },
      "source": [
        "Realizo la lectura del archivo."
      ],
      "id": "d4R3p46O0d80"
    },
    {
      "cell_type": "code",
      "metadata": {
        "id": "xAR8PQbc26kV"
      },
      "source": [
        "geo = spark.read.format(\"csv\").option(\"header\", True).load('gdrive/My Drive/TP2 - Datos/geo_tags.csv')\n",
        "rddGeo = geo.rdd"
      ],
      "id": "xAR8PQbc26kV",
      "execution_count": 5,
      "outputs": []
    },
    {
      "cell_type": "code",
      "metadata": {
        "id": "PjFN9Evz9O-c",
        "colab": {
          "base_uri": "https://localhost:8080/"
        },
        "outputId": "6f1a8a0d-e236-4ff8-f9f7-14b1a64961e2"
      },
      "source": [
        "rddGeo.take(2)"
      ],
      "id": "PjFN9Evz9O-c",
      "execution_count": 6,
      "outputs": [
        {
          "output_type": "execute_result",
          "data": {
            "text/plain": [
              "[Row(gt_id='158041', gt_page_id='4328020', gt_globe='earth', gt_primary='0', gt_lat='41.50749969', gt_lon='-5.81750011', gt_dim='1000', gt_type=None, gt_name=None, gt_country=None, gt_region=None),\n",
              " Row(gt_id='5844377', gt_page_id='4670424', gt_globe='earth', gt_primary='0', gt_lat='13.73799992', gt_lon='-89.29199982', gt_dim='10000', gt_type='city', gt_name=None, gt_country=None, gt_region=None)]"
            ]
          },
          "metadata": {},
          "execution_count": 6
        }
      ]
    },
    {
      "cell_type": "markdown",
      "metadata": {
        "id": "GkkxALIT0iXe"
      },
      "source": [
        "Limpio el RDD con el que voy a trabajar, y filtro por \"globe\" que me interesa, que en este caso es la tierra."
      ],
      "id": "GkkxALIT0iXe"
    },
    {
      "cell_type": "code",
      "metadata": {
        "id": "SREUqdAjrazv"
      },
      "source": [
        "rddGeo = rddGeo.filter(lambda x: x.gt_globe == 'earth' and x.gt_lon != None and x.gt_lat != None).map(lambda x: (x.gt_lat,x.gt_lon))"
      ],
      "id": "SREUqdAjrazv",
      "execution_count": 7,
      "outputs": []
    },
    {
      "cell_type": "markdown",
      "metadata": {
        "id": "GGwObMxm2QIC"
      },
      "source": [
        "Realizo un map para quedarme con una estructura del estilo --> ((latitud,longitud),1), para luego realizar un reduceByKey y obtener el conjunto de longitud y latitud más repetido."
      ],
      "id": "GGwObMxm2QIC"
    },
    {
      "cell_type": "code",
      "metadata": {
        "colab": {
          "base_uri": "https://localhost:8080/"
        },
        "id": "zLBIPBvx0xqp",
        "outputId": "61544b05-f77b-474b-c902-9c0e0eaa2294"
      },
      "source": [
        "rddGeo.map(lambda x: (x,1)).reduceByKey(lambda x,y:x+y).takeOrdered(1, lambda x:-x[1])"
      ],
      "id": "zLBIPBvx0xqp",
      "execution_count": 8,
      "outputs": [
        {
          "output_type": "execute_result",
          "data": {
            "text/plain": [
              "[(('-30.5', '-64.5'), 255)]"
            ]
          },
          "metadata": {},
          "execution_count": 8
        }
      ]
    },
    {
      "cell_type": "markdown",
      "metadata": {
        "id": "yhBlbOaM2T0Q"
      },
      "source": [
        "***Resultado***"
      ],
      "id": "yhBlbOaM2T0Q"
    },
    {
      "cell_type": "markdown",
      "metadata": {
        "id": "ItkggcQhq6sJ"
      },
      "source": [
        "Por lo tanto la referencia geografica mas repetida es ('-30.5', '-64.5')"
      ],
      "id": "ItkggcQhq6sJ"
    }
  ]
}